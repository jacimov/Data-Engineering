{
    "metadata": {
        "kernelspec": {
            "name": "SQL",
            "display_name": "SQL",
            "language": "sql"
        },
        "language_info": {
            "name": "sql",
            "version": ""
        }
    },
    "nbformat_minor": 2,
    "nbformat": 4,
    "cells": [
        {
            "cell_type": "markdown",
            "source": [
                "Code Implementaton to Schema"
            ],
            "metadata": {
                "azdata_cell_guid": "3c10b720-5e88-479d-a54a-165f80d01213"
            },
            "attachments": {}
        },
        {
            "cell_type": "code",
            "source": [
                "CREATE TABLE Hospital (\n",
                "    hospital_pk VARCHAR(50) PRIMARY KEY,\n",
                "    hospital_name VARCHAR(255),\n",
                "    address VARCHAR(255),\n",
                "    city VARCHAR(100),\n",
                "    state CHAR(2),\n",
                "    zip VARCHAR(10),\n",
                "    fips_code CHAR(5),\n",
                "    geocoded_hospital_address POINT\n",
                ");"
            ],
            "metadata": {
                "azdata_cell_guid": "c4972f3a-1b7b-43ff-8fe2-3926241df175",
                "language": "sql"
            },
            "outputs": [
                {
                    "output_type": "display_data",
                    "data": {
                        "text/html": "CREATE TABLE"
                    },
                    "metadata": {}
                },
                {
                    "output_type": "display_data",
                    "data": {
                        "text/html": "Total execution time: 00:00:00.040"
                    },
                    "metadata": {}
                }
            ],
            "execution_count": 1
        },
        {
            "cell_type": "markdown",
            "source": [
                "The Hospital table is designed to store basic information about healthcare facilities. Each hospital has a unique identifier (hospital\\_pk) and stores essential location details including the hospital name, address, city, state, and ZIP code. The FIPS code helps identify the specific county where the hospital is located, while the geocoded\\_hospital\\_address stores the exact geographical coordinates. The table uses common PostgreSQL data types like VARCHAR for text fields of varying lengths and CHAR for fixed-length data like state codes."
            ],
            "metadata": {
                "azdata_cell_guid": "ab8c401c-19d4-48b9-b2a5-6a0f1ce9480d"
            },
            "attachments": {}
        }
    ]
}