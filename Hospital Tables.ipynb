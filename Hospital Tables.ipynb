{
    "metadata": {
        "kernelspec": {
            "name": "SQL",
            "display_name": "SQL",
            "language": "sql"
        },
        "language_info": {
            "name": "sql",
            "version": ""
        }
    },
    "nbformat_minor": 2,
    "nbformat": 4,
    "cells": [
        {
            "cell_type": "markdown",
            "source": [
                "Code Implementaton to Schema"
            ],
            "metadata": {
                "azdata_cell_guid": "3c10b720-5e88-479d-a54a-165f80d01213"
            },
            "attachments": {}
        },
        {
            "cell_type": "code",
            "source": [
                "CREATE TABLE Hospital (\n",
                "    hospital_pk TEXT PRIMARY KEY,\n",
                "    hospital_name TEXT,\n",
                "    address TEXT,\n",
                "    city TEXT,\n",
                "    state TEXT,\n",
                "    zip TEXT,\n",
                "    fips_code CHAR(5),\n",
                "    geocoded_hospital_address POINT\n",
                ");"
            ],
            "metadata": {
                "azdata_cell_guid": "c4972f3a-1b7b-43ff-8fe2-3926241df175",
                "language": "sql"
            },
            "outputs": [
                {
                    "output_type": "error",
                    "ename": "",
                    "evalue": "relation \"hospital\" already exists",
                    "traceback": []
                },
                {
                    "output_type": "display_data",
                    "data": {
                        "text/html": "Total execution time: 00:00:00.017"
                    },
                    "metadata": {}
                }
            ],
            "execution_count": 1
        },
        {
            "cell_type": "markdown",
            "source": [
                "The Hospital table is designed to store basic information about healthcare facilities. Each hospital has a unique identifier (hospital\\_pk) and stores essential location details including the hospital name, address, city, state, and ZIP code. The FIPS code helps identify the specific county where the hospital is located, while the geocoded\\_hospital\\_address stores the exact geographical coordinates. The table uses common PostgreSQL data types like VARCHAR for text fields of varying lengths and CHAR for fixed-length data like state codes."
            ],
            "metadata": {
                "azdata_cell_guid": "ab8c401c-19d4-48b9-b2a5-6a0f1ce9480d"
            },
            "attachments": {}
        },
        {
            "cell_type": "code",
            "source": [
                "CREATE TABLE weekly_hospital_stats (\n",
                "    hospital_pk CHAR(6),\n",
                "    collection_week TIMESTAMP,\n",
                "    all_adult_hospital_beds_7_day_avg NUMERIC,\n",
                "    all_pediatric_inpatient_beds_7_day_avg NUMERIC,\n",
                "    all_adult_hospital_inpatient_bed_occupied_7_day_avg NUMERIC,\n",
                "    all_pediatric_inpatient_bed_occupied_7_day_avg NUMERIC,\n",
                "    total_icu_beds_7_day_avg NUMERIC,\n",
                "    icu_beds_used_7_day_avg NUMERIC,\n",
                "    inpatient_beds_used_covid_7_day_avg NUMERIC,\n",
                "    staffed_icu_adult_patients_confirmed_covid_7_day_avg NUMERIC,\n",
                "    PRIMARY KEY (hospital_pk, collection_week),\n",
                "    FOREIGN KEY (hospital_pk) REFERENCES hospital(hospital_pk)\n",
                ");"
            ],
            "metadata": {
                "azdata_cell_guid": "b8847f02-44d6-42af-9494-8c282f0f69c7",
                "language": "sql"
            },
            "outputs": [
                {
                    "output_type": "display_data",
                    "data": {
                        "text/html": "CREATE TABLE"
                    },
                    "metadata": {}
                },
                {
                    "output_type": "display_data",
                    "data": {
                        "text/html": "Total execution time: 00:00:00.038"
                    },
                    "metadata": {}
                }
            ],
            "execution_count": 2
        },
        {
            "cell_type": "markdown",
            "source": [
                "Design Decisions for weekly hospital stats table:\n",
                "\n",
                "  \n",
                "\n",
                "\\- <span style=\"color: #c1afff;font-weight: bold;\">**Primary Key (</span><span style=\"color: #c1afff;font-weight: bold;\">`hospital_pk`</span><span style=\"color: #c1afff;font-weight: bold;\">,&nbsp;</span> <span style=\"color: #c1afff;font-weight: bold;\">`collection_week`</span><span style=\"color: #c1afff;font-weight: bold;\">)**</span>:\n",
                "\n",
                "\\- Uses both \\`hospital\\_pk\\` and \\`collection\\_week\\` to ensure that each hospital's data for a specific week is unique.\n",
                "\n",
                "\\- <span style=\"color: #c1afff;font-weight: bold;\">**Foreign Key (</span><span style=\"color: #c1afff;font-weight: bold;\">`hospital_pk`</span><span style=\"color: #c1afff;font-weight: bold;\">)**</span>:\n",
                "\n",
                "\\- References the \\`hospital\\` table's primary key to link each record to a specific hospital.\n",
                "\n",
                "\\- <span style=\"color: #c1afff;font-weight: bold;\">**Data Types**</span>:\n",
                "\n",
                "\\- \\`hospital\\_pk\\` is defined as \\`CHAR(6)\\` to match with the expected hospital id length.\n",
                "\n",
                "\\- \\`collection\\_week\\` is a \\`TIMESTAMP\\` to capture weekly data.\n",
                "\n",
                "\\- Other columns use the \\`NUMERIC\\` type to accommodate average values (numeric and not integer as averages might be fractional).\n",
                "\n",
                "\\- <span style=\"color: #c1afff;font-weight: bold;\">**Columns**</span>:\n",
                "\n",
                "\\- Only variables relevant to weekly hospital statistics have been retained in the table to ensure it is mutually exclusive from the other tables except the identifier columns."
            ],
            "metadata": {
                "azdata_cell_guid": "199a7aba-bb26-441e-8e0a-00281223cea8"
            },
            "attachments": {}
        },
        {
            "cell_type": "markdown",
            "source": [
                "Hospital Quality Table\n",
                "\n",
                "  \n",
                "\n",
                "\\- Primary Key\n",
                "\n",
                "\\- Composite Key - uses both hospital<span style=\"color: #ff628c;\">\\_</span>pk and rating<span style=\"color: #ff628c;\">\\_</span>year to ensure that each hospital's data for a specific week is unique\n",
                "\n",
                "\\- Foreign Key\n",
                "\n",
                "\\- References hospital table's primary key\n",
                "\n",
                "\\- Data Types\n",
                "\n",
                "\\- Types and CHAR lengths are defined according to data documentation"
            ],
            "metadata": {
                "azdata_cell_guid": "39c61d57-be09-4dba-b549-7bea6d1ad7f3"
            },
            "attachments": {}
        },
        {
            "cell_type": "code",
            "source": [
                "CREATE TABLE hospital_quality(\n",
                "    hospital_pk TEXT REFERENCES hospital (hospital_pk),\n",
                "    facility_name TEXT,\n",
                "    type_of_hospital TEXT,\n",
                "    type_of_ownership TEXT,\n",
                "    emergency_services BOOLEAN DEFAULT FALSE,\n",
                "    overall_quality_rating TEXT,\n",
                "    rating_year INTEGER,\n",
                "    PRIMARY KEY (hospital_pk, rating_year)\n",
                ")"
            ],
            "metadata": {
                "azdata_cell_guid": "c3211208-bade-4462-9c38-83d4bf640172",
                "language": "sql"
            },
            "outputs": [
                {
                    "output_type": "display_data",
                    "data": {
                        "text/html": "CREATE TABLE"
                    },
                    "metadata": {}
                },
                {
                    "output_type": "display_data",
                    "data": {
                        "text/html": "Total execution time: 00:00:00.033"
                    },
                    "metadata": {}
                }
            ],
            "execution_count": 3
        },
        {
            "cell_type": "markdown",
            "source": [
                "Location Table\n",
                "\n",
                "  \n",
                "\n",
                "\\- Primary Key\n",
                "\n",
                "\\- Defined as county name to follow key principles\n",
                "\n",
                "\\- Foreign Key\n",
                "\n",
                "\\- References hospital data table's fips<span style=\"color: #ff628c;\">\\_</span>code and state"
            ],
            "metadata": {
                "azdata_cell_guid": "d7bb5120-c53a-41cd-af99-d03a76598786"
            },
            "attachments": {}
        },
        {
            "cell_type": "code",
            "source": [
                "CREATE TABLE location(\n",
                "    county_name CHAR PRIMARY KEY,\n",
                "    fips_code INTEGER REFERENCES hospitals (fips_code),\n",
                "    state TEXT REFERENCES hospitals (state)\n",
                ")"
            ],
            "metadata": {
                "azdata_cell_guid": "21e86ad3-9a6f-4f1d-bea8-18a5049bdef2",
                "language": "sql"
            },
            "outputs": [
                {
                    "output_type": "error",
                    "ename": "",
                    "evalue": "relation \"hospitals\" does not exist",
                    "traceback": []
                },
                {
                    "output_type": "display_data",
                    "data": {
                        "text/html": "Total execution time: 00:00:00.029"
                    },
                    "metadata": {}
                }
            ],
            "execution_count": 8
        },
        {
            "cell_type": "code",
            "source": [
                "ALTER TABLE hospital \n",
                "ALTER COLUMN hospital_pk TYPE TEXT,\n",
                "ALTER COLUMN hospital_name TYPE TEXT,\n",
                "ALTER COLUMN address TYPE TEXT,\n",
                "ALTER COLUMN city TYPE TEXT,\n",
                "ALTER COLUMN zip TYPE TEXT,\n",
                "ALTER COLUMN fips_code TYPE TEXT;\n",
                "\n",
                "ALTER TABLE weekly_hospital_stats\n",
                "ALTER COLUMN hospital_pk TYPE TEXT;\n",
                "\n",
                "ALTER TABLE hospital_quality \n",
                "ALTER COLUMN hospital_pk TYPE TEXT,\n",
                "ALTER COLUMN facility_name TYPE TEXT,\n",
                "ALTER COLUMN type_of_hospital TYPE TEXT,\n",
                "ALTER COLUMN type_of_ownership TYPE TEXT,\n",
                "ALTER COLUMN overall_quality_rating TYPE TEXT;"
            ],
            "metadata": {
                "azdata_cell_guid": "b9e00e52-85d7-48aa-ae5a-85848f61024e",
                "language": "sql"
            },
            "outputs": [
                {
                    "output_type": "display_data",
                    "data": {
                        "text/html": "ALTER TABLE"
                    },
                    "metadata": {}
                },
                {
                    "output_type": "display_data",
                    "data": {
                        "text/html": "ALTER TABLE"
                    },
                    "metadata": {}
                },
                {
                    "output_type": "display_data",
                    "data": {
                        "text/html": "ALTER TABLE"
                    },
                    "metadata": {}
                },
                {
                    "output_type": "display_data",
                    "data": {
                        "text/html": "Total execution time: 00:00:00.099"
                    },
                    "metadata": {}
                }
            ],
            "execution_count": 9
        }
    ]
}