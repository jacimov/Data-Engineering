{
    "metadata": {
        "kernelspec": {
            "name": "SQL",
            "display_name": "SQL",
            "language": "sql"
        },
        "language_info": {
            "name": "sql",
            "version": ""
        }
    },
    "nbformat_minor": 2,
    "nbformat": 4,
    "cells": [
        {
            "cell_type": "markdown",
            "source": [
                "This is my Homework0 for Data Engineering.\n",
                "\n",
                "Question 1:"
            ],
            "metadata": {
                "azdata_cell_guid": "8d292d3d-d5cb-4437-a852-a590d60062cd"
            },
            "attachments": {}
        },
        {
            "cell_type": "code",
            "source": [
                "SELECT id, persona, score FROM events\n",
                "WHERE score > 900\n",
                "ORDER BY persona;"
            ],
            "metadata": {
                "azdata_cell_guid": "01457b19-7508-4969-aeae-758366436148",
                "language": "sql"
            },
            "outputs": [
                {
                    "output_type": "display_data",
                    "data": {
                        "text/html": "(111 row(s) affected)"
                    },
                    "metadata": {}
                },
                {
                    "output_type": "display_data",
                    "data": {
                        "text/html": "Total execution time: 00:00:00.043"
                    },
                    "metadata": {}
                },
                {
                    "output_type": "execute_result",
                    "metadata": {},
                    "execution_count": 1,
                    "data": {
                        "application/vnd.dataresource+json": {
                            "schema": {
                                "fields": [
                                    {
                                        "name": "id"
                                    },
                                    {
                                        "name": "persona"
                                    },
                                    {
                                        "name": "score"
                                    }
                                ]
                            },
                            "data": [
                                {
                                    "id": "362",
                                    "persona": "1149",
                                    "score": "941"
                                },
                                {
                                    "id": "709",
                                    "persona": "1149",
                                    "score": "997"
                                },
                                {
                                    "id": "255",
                                    "persona": "1150",
                                    "score": "984"
                                },
                                {
                                    "id": "33",
                                    "persona": "1150",
                                    "score": "948"
                                },
                                {
                                    "id": "405",
                                    "persona": "1150",
                                    "score": "952"
                                },
                                {
                                    "id": "235",
                                    "persona": "1152",
                                    "score": "961"
                                },
                                {
                                    "id": "254",
                                    "persona": "1153",
                                    "score": "914"
                                },
                                {
                                    "id": "352",
                                    "persona": "1154",
                                    "score": "923"
                                },
                                {
                                    "id": "834",
                                    "persona": "1154",
                                    "score": "949"
                                },
                                {
                                    "id": "986",
                                    "persona": "1155",
                                    "score": "908"
                                },
                                {
                                    "id": "299",
                                    "persona": "1157",
                                    "score": "917"
                                },
                                {
                                    "id": "109",
                                    "persona": "1157",
                                    "score": "984"
                                },
                                {
                                    "id": "438",
                                    "persona": "1160",
                                    "score": "964"
                                },
                                {
                                    "id": "106",
                                    "persona": "1160",
                                    "score": "922"
                                },
                                {
                                    "id": "572",
                                    "persona": "1161",
                                    "score": "935"
                                },
                                {
                                    "id": "481",
                                    "persona": "1162",
                                    "score": "986"
                                },
                                {
                                    "id": "754",
                                    "persona": "1162",
                                    "score": "964"
                                },
                                {
                                    "id": "889",
                                    "persona": "1164",
                                    "score": "997"
                                },
                                {
                                    "id": "806",
                                    "persona": "1165",
                                    "score": "956"
                                },
                                {
                                    "id": "624",
                                    "persona": "1166",
                                    "score": "966"
                                },
                                {
                                    "id": "952",
                                    "persona": "1167",
                                    "score": "955"
                                },
                                {
                                    "id": "533",
                                    "persona": "1167",
                                    "score": "940"
                                },
                                {
                                    "id": "379",
                                    "persona": "1168",
                                    "score": "903"
                                },
                                {
                                    "id": "943",
                                    "persona": "1170",
                                    "score": "930"
                                },
                                {
                                    "id": "609",
                                    "persona": "1170",
                                    "score": "954"
                                },
                                {
                                    "id": "213",
                                    "persona": "1171",
                                    "score": "1000"
                                },
                                {
                                    "id": "670",
                                    "persona": "1172",
                                    "score": "907"
                                },
                                {
                                    "id": "897",
                                    "persona": "1173",
                                    "score": "933"
                                },
                                {
                                    "id": "477",
                                    "persona": "1173",
                                    "score": "941"
                                },
                                {
                                    "id": "979",
                                    "persona": "1176",
                                    "score": "975"
                                },
                                {
                                    "id": "307",
                                    "persona": "1177",
                                    "score": "941"
                                },
                                {
                                    "id": "918",
                                    "persona": "1177",
                                    "score": "908"
                                },
                                {
                                    "id": "559",
                                    "persona": "1179",
                                    "score": "945"
                                },
                                {
                                    "id": "420",
                                    "persona": "1180",
                                    "score": "980"
                                },
                                {
                                    "id": "529",
                                    "persona": "1180",
                                    "score": "994"
                                },
                                {
                                    "id": "503",
                                    "persona": "1180",
                                    "score": "921"
                                },
                                {
                                    "id": "56",
                                    "persona": "1181",
                                    "score": "901"
                                },
                                {
                                    "id": "183",
                                    "persona": "1183",
                                    "score": "953"
                                },
                                {
                                    "id": "111",
                                    "persona": "1184",
                                    "score": "917"
                                },
                                {
                                    "id": "436",
                                    "persona": "1185",
                                    "score": "930"
                                },
                                {
                                    "id": "976",
                                    "persona": "1185",
                                    "score": "989"
                                },
                                {
                                    "id": "252",
                                    "persona": "1186",
                                    "score": "969"
                                },
                                {
                                    "id": "449",
                                    "persona": "1189",
                                    "score": "913"
                                },
                                {
                                    "id": "4",
                                    "persona": "1193",
                                    "score": "914"
                                },
                                {
                                    "id": "261",
                                    "persona": "1194",
                                    "score": "967"
                                },
                                {
                                    "id": "484",
                                    "persona": "1194",
                                    "score": "941"
                                },
                                {
                                    "id": "723",
                                    "persona": "1195",
                                    "score": "926"
                                },
                                {
                                    "id": "337",
                                    "persona": "1195",
                                    "score": "942"
                                },
                                {
                                    "id": "335",
                                    "persona": "1195",
                                    "score": "928"
                                },
                                {
                                    "id": "719",
                                    "persona": "1197",
                                    "score": "958"
                                },
                                {
                                    "id": "514",
                                    "persona": "1199",
                                    "score": "932"
                                },
                                {
                                    "id": "242",
                                    "persona": "1199",
                                    "score": "925"
                                },
                                {
                                    "id": "817",
                                    "persona": "1199",
                                    "score": "952"
                                },
                                {
                                    "id": "171",
                                    "persona": "1200",
                                    "score": "945"
                                },
                                {
                                    "id": "824",
                                    "persona": "1202",
                                    "score": "901"
                                },
                                {
                                    "id": "808",
                                    "persona": "1202",
                                    "score": "973"
                                },
                                {
                                    "id": "52",
                                    "persona": "1203",
                                    "score": "908"
                                },
                                {
                                    "id": "268",
                                    "persona": "1204",
                                    "score": "909"
                                },
                                {
                                    "id": "178",
                                    "persona": "1206",
                                    "score": "913"
                                },
                                {
                                    "id": "288",
                                    "persona": "1207",
                                    "score": "946"
                                },
                                {
                                    "id": "1004",
                                    "persona": "1207",
                                    "score": "1000"
                                },
                                {
                                    "id": "100",
                                    "persona": "1207",
                                    "score": "954"
                                },
                                {
                                    "id": "902",
                                    "persona": "1207",
                                    "score": "948"
                                },
                                {
                                    "id": "471",
                                    "persona": "1209",
                                    "score": "982"
                                },
                                {
                                    "id": "707",
                                    "persona": "1209",
                                    "score": "963"
                                },
                                {
                                    "id": "558",
                                    "persona": "1209",
                                    "score": "935"
                                },
                                {
                                    "id": "776",
                                    "persona": "1210",
                                    "score": "906"
                                },
                                {
                                    "id": "842",
                                    "persona": "1211",
                                    "score": "908"
                                },
                                {
                                    "id": "353",
                                    "persona": "1211",
                                    "score": "916"
                                },
                                {
                                    "id": "40",
                                    "persona": "1211",
                                    "score": "973"
                                },
                                {
                                    "id": "228",
                                    "persona": "1215",
                                    "score": "974"
                                },
                                {
                                    "id": "922",
                                    "persona": "1215",
                                    "score": "958"
                                },
                                {
                                    "id": "74",
                                    "persona": "1215",
                                    "score": "974"
                                },
                                {
                                    "id": "179",
                                    "persona": "1215",
                                    "score": "930"
                                },
                                {
                                    "id": "487",
                                    "persona": "1218",
                                    "score": "901"
                                },
                                {
                                    "id": "63",
                                    "persona": "1218",
                                    "score": "902"
                                },
                                {
                                    "id": "460",
                                    "persona": "1221",
                                    "score": "969"
                                },
                                {
                                    "id": "673",
                                    "persona": "1221",
                                    "score": "997"
                                },
                                {
                                    "id": "676",
                                    "persona": "1222",
                                    "score": "918"
                                },
                                {
                                    "id": "86",
                                    "persona": "1223",
                                    "score": "988"
                                },
                                {
                                    "id": "452",
                                    "persona": "1223",
                                    "score": "906"
                                },
                                {
                                    "id": "767",
                                    "persona": "1227",
                                    "score": "975"
                                },
                                {
                                    "id": "78",
                                    "persona": "1227",
                                    "score": "936"
                                },
                                {
                                    "id": "576",
                                    "persona": "1228",
                                    "score": "964"
                                },
                                {
                                    "id": "38",
                                    "persona": "1228",
                                    "score": "942"
                                },
                                {
                                    "id": "967",
                                    "persona": "1229",
                                    "score": "973"
                                },
                                {
                                    "id": "656",
                                    "persona": "1230",
                                    "score": "993"
                                },
                                {
                                    "id": "595",
                                    "persona": "1231",
                                    "score": "913"
                                },
                                {
                                    "id": "910",
                                    "persona": "1232",
                                    "score": "905"
                                },
                                {
                                    "id": "658",
                                    "persona": "1233",
                                    "score": "942"
                                },
                                {
                                    "id": "539",
                                    "persona": "1234",
                                    "score": "922"
                                },
                                {
                                    "id": "238",
                                    "persona": "1234",
                                    "score": "938"
                                },
                                {
                                    "id": "984",
                                    "persona": "1235",
                                    "score": "967"
                                },
                                {
                                    "id": "262",
                                    "persona": "1236",
                                    "score": "968"
                                },
                                {
                                    "id": "15",
                                    "persona": "1236",
                                    "score": "923"
                                },
                                {
                                    "id": "90",
                                    "persona": "1237",
                                    "score": "996"
                                },
                                {
                                    "id": "297",
                                    "persona": "1237",
                                    "score": "933"
                                },
                                {
                                    "id": "520",
                                    "persona": "1238",
                                    "score": "969"
                                },
                                {
                                    "id": "31",
                                    "persona": "1239",
                                    "score": "981"
                                },
                                {
                                    "id": "360",
                                    "persona": "1241",
                                    "score": "963"
                                },
                                {
                                    "id": "107",
                                    "persona": "1241",
                                    "score": "971"
                                },
                                {
                                    "id": "448",
                                    "persona": "1241",
                                    "score": "926"
                                },
                                {
                                    "id": "140",
                                    "persona": "1241",
                                    "score": "954"
                                },
                                {
                                    "id": "755",
                                    "persona": "1242",
                                    "score": "963"
                                },
                                {
                                    "id": "62",
                                    "persona": "1243",
                                    "score": "937"
                                },
                                {
                                    "id": "645",
                                    "persona": "1245",
                                    "score": "994"
                                },
                                {
                                    "id": "553",
                                    "persona": "1245",
                                    "score": "901"
                                },
                                {
                                    "id": "519",
                                    "persona": "1246",
                                    "score": "985"
                                },
                                {
                                    "id": "320",
                                    "persona": "1247",
                                    "score": "971"
                                },
                                {
                                    "id": "991",
                                    "persona": "1247",
                                    "score": "945"
                                },
                                {
                                    "id": "701",
                                    "persona": "1248",
                                    "score": "935"
                                }
                            ]
                        },
                        "text/html": [
                            "<table>",
                            "<tr><th>id</th><th>persona</th><th>score</th></tr>",
                            "<tr><td>362</td><td>1149</td><td>941</td></tr>",
                            "<tr><td>709</td><td>1149</td><td>997</td></tr>",
                            "<tr><td>255</td><td>1150</td><td>984</td></tr>",
                            "<tr><td>33</td><td>1150</td><td>948</td></tr>",
                            "<tr><td>405</td><td>1150</td><td>952</td></tr>",
                            "<tr><td>235</td><td>1152</td><td>961</td></tr>",
                            "<tr><td>254</td><td>1153</td><td>914</td></tr>",
                            "<tr><td>352</td><td>1154</td><td>923</td></tr>",
                            "<tr><td>834</td><td>1154</td><td>949</td></tr>",
                            "<tr><td>986</td><td>1155</td><td>908</td></tr>",
                            "<tr><td>299</td><td>1157</td><td>917</td></tr>",
                            "<tr><td>109</td><td>1157</td><td>984</td></tr>",
                            "<tr><td>438</td><td>1160</td><td>964</td></tr>",
                            "<tr><td>106</td><td>1160</td><td>922</td></tr>",
                            "<tr><td>572</td><td>1161</td><td>935</td></tr>",
                            "<tr><td>481</td><td>1162</td><td>986</td></tr>",
                            "<tr><td>754</td><td>1162</td><td>964</td></tr>",
                            "<tr><td>889</td><td>1164</td><td>997</td></tr>",
                            "<tr><td>806</td><td>1165</td><td>956</td></tr>",
                            "<tr><td>624</td><td>1166</td><td>966</td></tr>",
                            "<tr><td>952</td><td>1167</td><td>955</td></tr>",
                            "<tr><td>533</td><td>1167</td><td>940</td></tr>",
                            "<tr><td>379</td><td>1168</td><td>903</td></tr>",
                            "<tr><td>943</td><td>1170</td><td>930</td></tr>",
                            "<tr><td>609</td><td>1170</td><td>954</td></tr>",
                            "<tr><td>213</td><td>1171</td><td>1000</td></tr>",
                            "<tr><td>670</td><td>1172</td><td>907</td></tr>",
                            "<tr><td>897</td><td>1173</td><td>933</td></tr>",
                            "<tr><td>477</td><td>1173</td><td>941</td></tr>",
                            "<tr><td>979</td><td>1176</td><td>975</td></tr>",
                            "<tr><td>307</td><td>1177</td><td>941</td></tr>",
                            "<tr><td>918</td><td>1177</td><td>908</td></tr>",
                            "<tr><td>559</td><td>1179</td><td>945</td></tr>",
                            "<tr><td>420</td><td>1180</td><td>980</td></tr>",
                            "<tr><td>529</td><td>1180</td><td>994</td></tr>",
                            "<tr><td>503</td><td>1180</td><td>921</td></tr>",
                            "<tr><td>56</td><td>1181</td><td>901</td></tr>",
                            "<tr><td>183</td><td>1183</td><td>953</td></tr>",
                            "<tr><td>111</td><td>1184</td><td>917</td></tr>",
                            "<tr><td>436</td><td>1185</td><td>930</td></tr>",
                            "<tr><td>976</td><td>1185</td><td>989</td></tr>",
                            "<tr><td>252</td><td>1186</td><td>969</td></tr>",
                            "<tr><td>449</td><td>1189</td><td>913</td></tr>",
                            "<tr><td>4</td><td>1193</td><td>914</td></tr>",
                            "<tr><td>261</td><td>1194</td><td>967</td></tr>",
                            "<tr><td>484</td><td>1194</td><td>941</td></tr>",
                            "<tr><td>723</td><td>1195</td><td>926</td></tr>",
                            "<tr><td>337</td><td>1195</td><td>942</td></tr>",
                            "<tr><td>335</td><td>1195</td><td>928</td></tr>",
                            "<tr><td>719</td><td>1197</td><td>958</td></tr>",
                            "<tr><td>514</td><td>1199</td><td>932</td></tr>",
                            "<tr><td>242</td><td>1199</td><td>925</td></tr>",
                            "<tr><td>817</td><td>1199</td><td>952</td></tr>",
                            "<tr><td>171</td><td>1200</td><td>945</td></tr>",
                            "<tr><td>824</td><td>1202</td><td>901</td></tr>",
                            "<tr><td>808</td><td>1202</td><td>973</td></tr>",
                            "<tr><td>52</td><td>1203</td><td>908</td></tr>",
                            "<tr><td>268</td><td>1204</td><td>909</td></tr>",
                            "<tr><td>178</td><td>1206</td><td>913</td></tr>",
                            "<tr><td>288</td><td>1207</td><td>946</td></tr>",
                            "<tr><td>1004</td><td>1207</td><td>1000</td></tr>",
                            "<tr><td>100</td><td>1207</td><td>954</td></tr>",
                            "<tr><td>902</td><td>1207</td><td>948</td></tr>",
                            "<tr><td>471</td><td>1209</td><td>982</td></tr>",
                            "<tr><td>707</td><td>1209</td><td>963</td></tr>",
                            "<tr><td>558</td><td>1209</td><td>935</td></tr>",
                            "<tr><td>776</td><td>1210</td><td>906</td></tr>",
                            "<tr><td>842</td><td>1211</td><td>908</td></tr>",
                            "<tr><td>353</td><td>1211</td><td>916</td></tr>",
                            "<tr><td>40</td><td>1211</td><td>973</td></tr>",
                            "<tr><td>228</td><td>1215</td><td>974</td></tr>",
                            "<tr><td>922</td><td>1215</td><td>958</td></tr>",
                            "<tr><td>74</td><td>1215</td><td>974</td></tr>",
                            "<tr><td>179</td><td>1215</td><td>930</td></tr>",
                            "<tr><td>487</td><td>1218</td><td>901</td></tr>",
                            "<tr><td>63</td><td>1218</td><td>902</td></tr>",
                            "<tr><td>460</td><td>1221</td><td>969</td></tr>",
                            "<tr><td>673</td><td>1221</td><td>997</td></tr>",
                            "<tr><td>676</td><td>1222</td><td>918</td></tr>",
                            "<tr><td>86</td><td>1223</td><td>988</td></tr>",
                            "<tr><td>452</td><td>1223</td><td>906</td></tr>",
                            "<tr><td>767</td><td>1227</td><td>975</td></tr>",
                            "<tr><td>78</td><td>1227</td><td>936</td></tr>",
                            "<tr><td>576</td><td>1228</td><td>964</td></tr>",
                            "<tr><td>38</td><td>1228</td><td>942</td></tr>",
                            "<tr><td>967</td><td>1229</td><td>973</td></tr>",
                            "<tr><td>656</td><td>1230</td><td>993</td></tr>",
                            "<tr><td>595</td><td>1231</td><td>913</td></tr>",
                            "<tr><td>910</td><td>1232</td><td>905</td></tr>",
                            "<tr><td>658</td><td>1233</td><td>942</td></tr>",
                            "<tr><td>539</td><td>1234</td><td>922</td></tr>",
                            "<tr><td>238</td><td>1234</td><td>938</td></tr>",
                            "<tr><td>984</td><td>1235</td><td>967</td></tr>",
                            "<tr><td>262</td><td>1236</td><td>968</td></tr>",
                            "<tr><td>15</td><td>1236</td><td>923</td></tr>",
                            "<tr><td>90</td><td>1237</td><td>996</td></tr>",
                            "<tr><td>297</td><td>1237</td><td>933</td></tr>",
                            "<tr><td>520</td><td>1238</td><td>969</td></tr>",
                            "<tr><td>31</td><td>1239</td><td>981</td></tr>",
                            "<tr><td>360</td><td>1241</td><td>963</td></tr>",
                            "<tr><td>107</td><td>1241</td><td>971</td></tr>",
                            "<tr><td>448</td><td>1241</td><td>926</td></tr>",
                            "<tr><td>140</td><td>1241</td><td>954</td></tr>",
                            "<tr><td>755</td><td>1242</td><td>963</td></tr>",
                            "<tr><td>62</td><td>1243</td><td>937</td></tr>",
                            "<tr><td>645</td><td>1245</td><td>994</td></tr>",
                            "<tr><td>553</td><td>1245</td><td>901</td></tr>",
                            "<tr><td>519</td><td>1246</td><td>985</td></tr>",
                            "<tr><td>320</td><td>1247</td><td>971</td></tr>",
                            "<tr><td>991</td><td>1247</td><td>945</td></tr>",
                            "<tr><td>701</td><td>1248</td><td>935</td></tr>",
                            "</table>"
                        ]
                    }
                }
            ],
            "execution_count": 1
        },
        {
            "cell_type": "markdown",
            "source": [
                "Question 2:"
            ],
            "metadata": {
                "azdata_cell_guid": "e3358167-bf5d-40d4-a5ac-0f2bd919b75a"
            },
            "attachments": {}
        },
        {
            "cell_type": "code",
            "source": [
                "SELECT DISTINCT persona FROM events\n",
                "WHERE score > 900\n",
                "ORDER BY persona;"
            ],
            "metadata": {
                "azdata_cell_guid": "3a40c034-bbc2-4c95-b24b-1a7dbaa4ad84",
                "language": "sql"
            },
            "outputs": [
                {
                    "output_type": "display_data",
                    "data": {
                        "text/html": "(68 row(s) affected)"
                    },
                    "metadata": {}
                },
                {
                    "output_type": "display_data",
                    "data": {
                        "text/html": "Total execution time: 00:00:00.037"
                    },
                    "metadata": {}
                },
                {
                    "output_type": "execute_result",
                    "metadata": {},
                    "execution_count": 2,
                    "data": {
                        "application/vnd.dataresource+json": {
                            "schema": {
                                "fields": [
                                    {
                                        "name": "persona"
                                    }
                                ]
                            },
                            "data": [
                                {
                                    "persona": "1149"
                                },
                                {
                                    "persona": "1150"
                                },
                                {
                                    "persona": "1152"
                                },
                                {
                                    "persona": "1153"
                                },
                                {
                                    "persona": "1154"
                                },
                                {
                                    "persona": "1155"
                                },
                                {
                                    "persona": "1157"
                                },
                                {
                                    "persona": "1160"
                                },
                                {
                                    "persona": "1161"
                                },
                                {
                                    "persona": "1162"
                                },
                                {
                                    "persona": "1164"
                                },
                                {
                                    "persona": "1165"
                                },
                                {
                                    "persona": "1166"
                                },
                                {
                                    "persona": "1167"
                                },
                                {
                                    "persona": "1168"
                                },
                                {
                                    "persona": "1170"
                                },
                                {
                                    "persona": "1171"
                                },
                                {
                                    "persona": "1172"
                                },
                                {
                                    "persona": "1173"
                                },
                                {
                                    "persona": "1176"
                                },
                                {
                                    "persona": "1177"
                                },
                                {
                                    "persona": "1179"
                                },
                                {
                                    "persona": "1180"
                                },
                                {
                                    "persona": "1181"
                                },
                                {
                                    "persona": "1183"
                                },
                                {
                                    "persona": "1184"
                                },
                                {
                                    "persona": "1185"
                                },
                                {
                                    "persona": "1186"
                                },
                                {
                                    "persona": "1189"
                                },
                                {
                                    "persona": "1193"
                                },
                                {
                                    "persona": "1194"
                                },
                                {
                                    "persona": "1195"
                                },
                                {
                                    "persona": "1197"
                                },
                                {
                                    "persona": "1199"
                                },
                                {
                                    "persona": "1200"
                                },
                                {
                                    "persona": "1202"
                                },
                                {
                                    "persona": "1203"
                                },
                                {
                                    "persona": "1204"
                                },
                                {
                                    "persona": "1206"
                                },
                                {
                                    "persona": "1207"
                                },
                                {
                                    "persona": "1209"
                                },
                                {
                                    "persona": "1210"
                                },
                                {
                                    "persona": "1211"
                                },
                                {
                                    "persona": "1215"
                                },
                                {
                                    "persona": "1218"
                                },
                                {
                                    "persona": "1221"
                                },
                                {
                                    "persona": "1222"
                                },
                                {
                                    "persona": "1223"
                                },
                                {
                                    "persona": "1227"
                                },
                                {
                                    "persona": "1228"
                                },
                                {
                                    "persona": "1229"
                                },
                                {
                                    "persona": "1230"
                                },
                                {
                                    "persona": "1231"
                                },
                                {
                                    "persona": "1232"
                                },
                                {
                                    "persona": "1233"
                                },
                                {
                                    "persona": "1234"
                                },
                                {
                                    "persona": "1235"
                                },
                                {
                                    "persona": "1236"
                                },
                                {
                                    "persona": "1237"
                                },
                                {
                                    "persona": "1238"
                                },
                                {
                                    "persona": "1239"
                                },
                                {
                                    "persona": "1241"
                                },
                                {
                                    "persona": "1242"
                                },
                                {
                                    "persona": "1243"
                                },
                                {
                                    "persona": "1245"
                                },
                                {
                                    "persona": "1246"
                                },
                                {
                                    "persona": "1247"
                                },
                                {
                                    "persona": "1248"
                                }
                            ]
                        },
                        "text/html": [
                            "<table>",
                            "<tr><th>persona</th></tr>",
                            "<tr><td>1149</td></tr>",
                            "<tr><td>1150</td></tr>",
                            "<tr><td>1152</td></tr>",
                            "<tr><td>1153</td></tr>",
                            "<tr><td>1154</td></tr>",
                            "<tr><td>1155</td></tr>",
                            "<tr><td>1157</td></tr>",
                            "<tr><td>1160</td></tr>",
                            "<tr><td>1161</td></tr>",
                            "<tr><td>1162</td></tr>",
                            "<tr><td>1164</td></tr>",
                            "<tr><td>1165</td></tr>",
                            "<tr><td>1166</td></tr>",
                            "<tr><td>1167</td></tr>",
                            "<tr><td>1168</td></tr>",
                            "<tr><td>1170</td></tr>",
                            "<tr><td>1171</td></tr>",
                            "<tr><td>1172</td></tr>",
                            "<tr><td>1173</td></tr>",
                            "<tr><td>1176</td></tr>",
                            "<tr><td>1177</td></tr>",
                            "<tr><td>1179</td></tr>",
                            "<tr><td>1180</td></tr>",
                            "<tr><td>1181</td></tr>",
                            "<tr><td>1183</td></tr>",
                            "<tr><td>1184</td></tr>",
                            "<tr><td>1185</td></tr>",
                            "<tr><td>1186</td></tr>",
                            "<tr><td>1189</td></tr>",
                            "<tr><td>1193</td></tr>",
                            "<tr><td>1194</td></tr>",
                            "<tr><td>1195</td></tr>",
                            "<tr><td>1197</td></tr>",
                            "<tr><td>1199</td></tr>",
                            "<tr><td>1200</td></tr>",
                            "<tr><td>1202</td></tr>",
                            "<tr><td>1203</td></tr>",
                            "<tr><td>1204</td></tr>",
                            "<tr><td>1206</td></tr>",
                            "<tr><td>1207</td></tr>",
                            "<tr><td>1209</td></tr>",
                            "<tr><td>1210</td></tr>",
                            "<tr><td>1211</td></tr>",
                            "<tr><td>1215</td></tr>",
                            "<tr><td>1218</td></tr>",
                            "<tr><td>1221</td></tr>",
                            "<tr><td>1222</td></tr>",
                            "<tr><td>1223</td></tr>",
                            "<tr><td>1227</td></tr>",
                            "<tr><td>1228</td></tr>",
                            "<tr><td>1229</td></tr>",
                            "<tr><td>1230</td></tr>",
                            "<tr><td>1231</td></tr>",
                            "<tr><td>1232</td></tr>",
                            "<tr><td>1233</td></tr>",
                            "<tr><td>1234</td></tr>",
                            "<tr><td>1235</td></tr>",
                            "<tr><td>1236</td></tr>",
                            "<tr><td>1237</td></tr>",
                            "<tr><td>1238</td></tr>",
                            "<tr><td>1239</td></tr>",
                            "<tr><td>1241</td></tr>",
                            "<tr><td>1242</td></tr>",
                            "<tr><td>1243</td></tr>",
                            "<tr><td>1245</td></tr>",
                            "<tr><td>1246</td></tr>",
                            "<tr><td>1247</td></tr>",
                            "<tr><td>1248</td></tr>",
                            "</table>"
                        ]
                    }
                }
            ],
            "execution_count": 2
        },
        {
            "cell_type": "markdown",
            "source": [
                "Question 3:"
            ],
            "metadata": {
                "azdata_cell_guid": "3fb015b0-2f01-44cb-a43e-fa817eaa8c6c"
            },
            "attachments": {}
        },
        {
            "cell_type": "code",
            "source": [
                "SELECT persona, MAX(latency), avg(score) AS mean_score\n",
                "FROM events\n",
                "GROUP BY persona\n",
                "HAVING MAX(latency) > 575\n",
                "ORDER BY mean_score ASC;"
            ],
            "metadata": {
                "azdata_cell_guid": "116cbf28-4f19-45b5-9b92-2f4c5f06bf68",
                "language": "sql"
            },
            "outputs": [
                {
                    "output_type": "display_data",
                    "data": {
                        "text/html": "(37 row(s) affected)"
                    },
                    "metadata": {}
                },
                {
                    "output_type": "display_data",
                    "data": {
                        "text/html": "Total execution time: 00:00:00.036"
                    },
                    "metadata": {}
                },
                {
                    "output_type": "execute_result",
                    "metadata": {},
                    "execution_count": 3,
                    "data": {
                        "application/vnd.dataresource+json": {
                            "schema": {
                                "fields": [
                                    {
                                        "name": "persona"
                                    },
                                    {
                                        "name": "max"
                                    },
                                    {
                                        "name": "mean_score"
                                    }
                                ]
                            },
                            "data": [
                                {
                                    "persona": "1156",
                                    "max": "582.4",
                                    "mean_score": "326.9090909090909091"
                                },
                                {
                                    "persona": "1157",
                                    "max": "575.6",
                                    "mean_score": "333.5000000000000000"
                                },
                                {
                                    "persona": "1226",
                                    "max": "581.7",
                                    "mean_score": "378.1250000000000000"
                                },
                                {
                                    "persona": "1204",
                                    "max": "577.4",
                                    "mean_score": "392.7500000000000000"
                                },
                                {
                                    "persona": "1197",
                                    "max": "576.7",
                                    "mean_score": "436.6666666666666667"
                                },
                                {
                                    "persona": "1158",
                                    "max": "580.6",
                                    "mean_score": "441.1666666666666667"
                                },
                                {
                                    "persona": "1225",
                                    "max": "584.4",
                                    "mean_score": "447.5555555555555556"
                                },
                                {
                                    "persona": "1179",
                                    "max": "577",
                                    "mean_score": "448.4375000000000000"
                                },
                                {
                                    "persona": "1220",
                                    "max": "581.9",
                                    "mean_score": "454.7142857142857143"
                                },
                                {
                                    "persona": "1155",
                                    "max": "578.7",
                                    "mean_score": "467.5333333333333333"
                                },
                                {
                                    "persona": "1245",
                                    "max": "581",
                                    "mean_score": "467.7500000000000000"
                                },
                                {
                                    "persona": "1183",
                                    "max": "580.7",
                                    "mean_score": "476.5000000000000000"
                                },
                                {
                                    "persona": "1173",
                                    "max": "579.4",
                                    "mean_score": "477.1875000000000000"
                                },
                                {
                                    "persona": "1181",
                                    "max": "580.1",
                                    "mean_score": "481.0000000000000000"
                                },
                                {
                                    "persona": "1196",
                                    "max": "575.2",
                                    "mean_score": "481.3333333333333333"
                                },
                                {
                                    "persona": "1201",
                                    "max": "581.7",
                                    "mean_score": "494.6666666666666667"
                                },
                                {
                                    "persona": "1153",
                                    "max": "578.4",
                                    "mean_score": "498.5555555555555556"
                                },
                                {
                                    "persona": "1164",
                                    "max": "576.7",
                                    "mean_score": "502.1818181818181818"
                                },
                                {
                                    "persona": "1188",
                                    "max": "582.9",
                                    "mean_score": "503.2000000000000000"
                                },
                                {
                                    "persona": "1247",
                                    "max": "577",
                                    "mean_score": "508.4117647058823529"
                                },
                                {
                                    "persona": "1180",
                                    "max": "583.9",
                                    "mean_score": "525.0769230769230769"
                                },
                                {
                                    "persona": "1167",
                                    "max": "577.5",
                                    "mean_score": "527.0000000000000000"
                                },
                                {
                                    "persona": "1240",
                                    "max": "581.6",
                                    "mean_score": "534.8571428571428571"
                                },
                                {
                                    "persona": "1161",
                                    "max": "576.4",
                                    "mean_score": "541.1666666666666667"
                                },
                                {
                                    "persona": "1239",
                                    "max": "575.7",
                                    "mean_score": "544.1666666666666667"
                                },
                                {
                                    "persona": "1189",
                                    "max": "578.8",
                                    "mean_score": "546.6666666666666667"
                                },
                                {
                                    "persona": "1218",
                                    "max": "582.1",
                                    "mean_score": "551.1000000000000000"
                                },
                                {
                                    "persona": "1246",
                                    "max": "582.5",
                                    "mean_score": "551.7272727272727273"
                                },
                                {
                                    "persona": "1217",
                                    "max": "582",
                                    "mean_score": "556.6000000000000000"
                                },
                                {
                                    "persona": "1168",
                                    "max": "582.7",
                                    "mean_score": "561.0909090909090909"
                                },
                                {
                                    "persona": "1162",
                                    "max": "581.7",
                                    "mean_score": "567.5384615384615385"
                                },
                                {
                                    "persona": "1152",
                                    "max": "578.3",
                                    "mean_score": "585.8000000000000000"
                                },
                                {
                                    "persona": "1163",
                                    "max": "580.2",
                                    "mean_score": "587.5555555555555556"
                                },
                                {
                                    "persona": "1170",
                                    "max": "575.2",
                                    "mean_score": "591.4545454545454545"
                                },
                                {
                                    "persona": "1223",
                                    "max": "584.3",
                                    "mean_score": "605.6666666666666667"
                                },
                                {
                                    "persona": "1248",
                                    "max": "578.5",
                                    "mean_score": "607.4444444444444444"
                                },
                                {
                                    "persona": "1177",
                                    "max": "584.5",
                                    "mean_score": "611.0714285714285714"
                                }
                            ]
                        },
                        "text/html": [
                            "<table>",
                            "<tr><th>persona</th><th>max</th><th>mean_score</th></tr>",
                            "<tr><td>1156</td><td>582.4</td><td>326.9090909090909091</td></tr>",
                            "<tr><td>1157</td><td>575.6</td><td>333.5000000000000000</td></tr>",
                            "<tr><td>1226</td><td>581.7</td><td>378.1250000000000000</td></tr>",
                            "<tr><td>1204</td><td>577.4</td><td>392.7500000000000000</td></tr>",
                            "<tr><td>1197</td><td>576.7</td><td>436.6666666666666667</td></tr>",
                            "<tr><td>1158</td><td>580.6</td><td>441.1666666666666667</td></tr>",
                            "<tr><td>1225</td><td>584.4</td><td>447.5555555555555556</td></tr>",
                            "<tr><td>1179</td><td>577</td><td>448.4375000000000000</td></tr>",
                            "<tr><td>1220</td><td>581.9</td><td>454.7142857142857143</td></tr>",
                            "<tr><td>1155</td><td>578.7</td><td>467.5333333333333333</td></tr>",
                            "<tr><td>1245</td><td>581</td><td>467.7500000000000000</td></tr>",
                            "<tr><td>1183</td><td>580.7</td><td>476.5000000000000000</td></tr>",
                            "<tr><td>1173</td><td>579.4</td><td>477.1875000000000000</td></tr>",
                            "<tr><td>1181</td><td>580.1</td><td>481.0000000000000000</td></tr>",
                            "<tr><td>1196</td><td>575.2</td><td>481.3333333333333333</td></tr>",
                            "<tr><td>1201</td><td>581.7</td><td>494.6666666666666667</td></tr>",
                            "<tr><td>1153</td><td>578.4</td><td>498.5555555555555556</td></tr>",
                            "<tr><td>1164</td><td>576.7</td><td>502.1818181818181818</td></tr>",
                            "<tr><td>1188</td><td>582.9</td><td>503.2000000000000000</td></tr>",
                            "<tr><td>1247</td><td>577</td><td>508.4117647058823529</td></tr>",
                            "<tr><td>1180</td><td>583.9</td><td>525.0769230769230769</td></tr>",
                            "<tr><td>1167</td><td>577.5</td><td>527.0000000000000000</td></tr>",
                            "<tr><td>1240</td><td>581.6</td><td>534.8571428571428571</td></tr>",
                            "<tr><td>1161</td><td>576.4</td><td>541.1666666666666667</td></tr>",
                            "<tr><td>1239</td><td>575.7</td><td>544.1666666666666667</td></tr>",
                            "<tr><td>1189</td><td>578.8</td><td>546.6666666666666667</td></tr>",
                            "<tr><td>1218</td><td>582.1</td><td>551.1000000000000000</td></tr>",
                            "<tr><td>1246</td><td>582.5</td><td>551.7272727272727273</td></tr>",
                            "<tr><td>1217</td><td>582</td><td>556.6000000000000000</td></tr>",
                            "<tr><td>1168</td><td>582.7</td><td>561.0909090909090909</td></tr>",
                            "<tr><td>1162</td><td>581.7</td><td>567.5384615384615385</td></tr>",
                            "<tr><td>1152</td><td>578.3</td><td>585.8000000000000000</td></tr>",
                            "<tr><td>1163</td><td>580.2</td><td>587.5555555555555556</td></tr>",
                            "<tr><td>1170</td><td>575.2</td><td>591.4545454545454545</td></tr>",
                            "<tr><td>1223</td><td>584.3</td><td>605.6666666666666667</td></tr>",
                            "<tr><td>1248</td><td>578.5</td><td>607.4444444444444444</td></tr>",
                            "<tr><td>1177</td><td>584.5</td><td>611.0714285714285714</td></tr>",
                            "</table>"
                        ]
                    }
                }
            ],
            "execution_count": 3
        },
        {
            "cell_type": "markdown",
            "source": [
                "Question 4:"
            ],
            "metadata": {
                "azdata_cell_guid": "27a7e8f0-2378-44a8-aafd-37fa29183df8"
            },
            "attachments": {}
        },
        {
            "cell_type": "code",
            "source": [
                "SELECT persona \n",
                "FROM events\n",
                "GROUP BY persona\n",
                "HAVING avg(score) > 600;"
            ],
            "metadata": {
                "azdata_cell_guid": "11182218-49e2-4f1f-ac72-79db9b110e1c",
                "language": "sql"
            },
            "outputs": [
                {
                    "output_type": "display_data",
                    "data": {
                        "text/html": "(11 row(s) affected)"
                    },
                    "metadata": {}
                },
                {
                    "output_type": "display_data",
                    "data": {
                        "text/html": "Total execution time: 00:00:00.038"
                    },
                    "metadata": {}
                },
                {
                    "output_type": "execute_result",
                    "metadata": {},
                    "execution_count": 4,
                    "data": {
                        "application/vnd.dataresource+json": {
                            "schema": {
                                "fields": [
                                    {
                                        "name": "persona"
                                    }
                                ]
                            },
                            "data": [
                                {
                                    "persona": "1211"
                                },
                                {
                                    "persona": "1228"
                                },
                                {
                                    "persona": "1229"
                                },
                                {
                                    "persona": "1195"
                                },
                                {
                                    "persona": "1248"
                                },
                                {
                                    "persona": "1209"
                                },
                                {
                                    "persona": "1177"
                                },
                                {
                                    "persona": "1207"
                                },
                                {
                                    "persona": "1215"
                                },
                                {
                                    "persona": "1223"
                                },
                                {
                                    "persona": "1203"
                                }
                            ]
                        },
                        "text/html": [
                            "<table>",
                            "<tr><th>persona</th></tr>",
                            "<tr><td>1211</td></tr>",
                            "<tr><td>1228</td></tr>",
                            "<tr><td>1229</td></tr>",
                            "<tr><td>1195</td></tr>",
                            "<tr><td>1248</td></tr>",
                            "<tr><td>1209</td></tr>",
                            "<tr><td>1177</td></tr>",
                            "<tr><td>1207</td></tr>",
                            "<tr><td>1215</td></tr>",
                            "<tr><td>1223</td></tr>",
                            "<tr><td>1203</td></tr>",
                            "</table>"
                        ]
                    }
                }
            ],
            "execution_count": 4
        },
        {
            "cell_type": "markdown",
            "source": [
                "Question 5:"
            ],
            "metadata": {
                "azdata_cell_guid": "a83b357c-2c34-4b1d-ae73-8a80f67318ee"
            },
            "attachments": {}
        },
        {
            "cell_type": "code",
            "source": [
                "SELECT element, count(element) AS count\n",
                "FROM events\n",
                "GROUP BY element\n",
                "ORDER BY count DESC;"
            ],
            "metadata": {
                "azdata_cell_guid": "924c6812-7d99-48df-835c-037295335efe",
                "language": "sql"
            },
            "outputs": [
                {
                    "output_type": "display_data",
                    "data": {
                        "text/html": "(88 row(s) affected)"
                    },
                    "metadata": {}
                },
                {
                    "output_type": "display_data",
                    "data": {
                        "text/html": "Total execution time: 00:00:00.034"
                    },
                    "metadata": {}
                },
                {
                    "output_type": "execute_result",
                    "metadata": {},
                    "execution_count": 5,
                    "data": {
                        "application/vnd.dataresource+json": {
                            "schema": {
                                "fields": [
                                    {
                                        "name": "element"
                                    },
                                    {
                                        "name": "count"
                                    }
                                ]
                            },
                            "data": [
                                {
                                    "element": "29401",
                                    "count": "19"
                                },
                                {
                                    "element": "29431",
                                    "count": "18"
                                },
                                {
                                    "element": "29352",
                                    "count": "18"
                                },
                                {
                                    "element": "29400",
                                    "count": "18"
                                },
                                {
                                    "element": "29381",
                                    "count": "17"
                                },
                                {
                                    "element": "29433",
                                    "count": "17"
                                },
                                {
                                    "element": "29406",
                                    "count": "17"
                                },
                                {
                                    "element": "29434",
                                    "count": "16"
                                },
                                {
                                    "element": "29359",
                                    "count": "16"
                                },
                                {
                                    "element": "29427",
                                    "count": "16"
                                },
                                {
                                    "element": "29417",
                                    "count": "15"
                                },
                                {
                                    "element": "29411",
                                    "count": "15"
                                },
                                {
                                    "element": "29354",
                                    "count": "15"
                                },
                                {
                                    "element": "29408",
                                    "count": "15"
                                },
                                {
                                    "element": "29374",
                                    "count": "14"
                                },
                                {
                                    "element": "29372",
                                    "count": "14"
                                },
                                {
                                    "element": "29384",
                                    "count": "14"
                                },
                                {
                                    "element": "29428",
                                    "count": "14"
                                },
                                {
                                    "element": "29410",
                                    "count": "14"
                                },
                                {
                                    "element": "29429",
                                    "count": "14"
                                },
                                {
                                    "element": "29370",
                                    "count": "14"
                                },
                                {
                                    "element": "29376",
                                    "count": "14"
                                },
                                {
                                    "element": "29368",
                                    "count": "14"
                                },
                                {
                                    "element": "29369",
                                    "count": "14"
                                },
                                {
                                    "element": "29414",
                                    "count": "14"
                                },
                                {
                                    "element": "29412",
                                    "count": "14"
                                },
                                {
                                    "element": "29403",
                                    "count": "13"
                                },
                                {
                                    "element": "29423",
                                    "count": "13"
                                },
                                {
                                    "element": "29364",
                                    "count": "13"
                                },
                                {
                                    "element": "29415",
                                    "count": "13"
                                },
                                {
                                    "element": "29402",
                                    "count": "13"
                                },
                                {
                                    "element": "29365",
                                    "count": "12"
                                },
                                {
                                    "element": "29390",
                                    "count": "12"
                                },
                                {
                                    "element": "29425",
                                    "count": "12"
                                },
                                {
                                    "element": "29397",
                                    "count": "12"
                                },
                                {
                                    "element": "29389",
                                    "count": "12"
                                },
                                {
                                    "element": "29432",
                                    "count": "12"
                                },
                                {
                                    "element": "29391",
                                    "count": "12"
                                },
                                {
                                    "element": "29367",
                                    "count": "12"
                                },
                                {
                                    "element": "29393",
                                    "count": "12"
                                },
                                {
                                    "element": "29358",
                                    "count": "12"
                                },
                                {
                                    "element": "29371",
                                    "count": "12"
                                },
                                {
                                    "element": "29398",
                                    "count": "11"
                                },
                                {
                                    "element": "29395",
                                    "count": "11"
                                },
                                {
                                    "element": "29351",
                                    "count": "11"
                                },
                                {
                                    "element": "29392",
                                    "count": "11"
                                },
                                {
                                    "element": "29385",
                                    "count": "11"
                                },
                                {
                                    "element": "29420",
                                    "count": "11"
                                },
                                {
                                    "element": "29419",
                                    "count": "11"
                                },
                                {
                                    "element": "29350",
                                    "count": "11"
                                },
                                {
                                    "element": "29422",
                                    "count": "10"
                                },
                                {
                                    "element": "29360",
                                    "count": "10"
                                },
                                {
                                    "element": "29394",
                                    "count": "10"
                                },
                                {
                                    "element": "29421",
                                    "count": "10"
                                },
                                {
                                    "element": "29355",
                                    "count": "10"
                                },
                                {
                                    "element": "29388",
                                    "count": "10"
                                },
                                {
                                    "element": "29366",
                                    "count": "10"
                                },
                                {
                                    "element": "29436",
                                    "count": "10"
                                },
                                {
                                    "element": "29378",
                                    "count": "10"
                                },
                                {
                                    "element": "29363",
                                    "count": "10"
                                },
                                {
                                    "element": "29357",
                                    "count": "10"
                                },
                                {
                                    "element": "29362",
                                    "count": "10"
                                },
                                {
                                    "element": "29396",
                                    "count": "10"
                                },
                                {
                                    "element": "29379",
                                    "count": "10"
                                },
                                {
                                    "element": "29435",
                                    "count": "10"
                                },
                                {
                                    "element": "29430",
                                    "count": "10"
                                },
                                {
                                    "element": "29413",
                                    "count": "10"
                                },
                                {
                                    "element": "29383",
                                    "count": "9"
                                },
                                {
                                    "element": "29356",
                                    "count": "9"
                                },
                                {
                                    "element": "29375",
                                    "count": "9"
                                },
                                {
                                    "element": "29407",
                                    "count": "9"
                                },
                                {
                                    "element": "29349",
                                    "count": "8"
                                },
                                {
                                    "element": "29424",
                                    "count": "8"
                                },
                                {
                                    "element": "29418",
                                    "count": "8"
                                },
                                {
                                    "element": "29405",
                                    "count": "8"
                                },
                                {
                                    "element": "29409",
                                    "count": "8"
                                },
                                {
                                    "element": "29399",
                                    "count": "8"
                                },
                                {
                                    "element": "29386",
                                    "count": "7"
                                },
                                {
                                    "element": "29426",
                                    "count": "7"
                                },
                                {
                                    "element": "29380",
                                    "count": "7"
                                },
                                {
                                    "element": "29387",
                                    "count": "7"
                                },
                                {
                                    "element": "29361",
                                    "count": "6"
                                },
                                {
                                    "element": "29382",
                                    "count": "6"
                                },
                                {
                                    "element": "29353",
                                    "count": "6"
                                },
                                {
                                    "element": "29377",
                                    "count": "5"
                                },
                                {
                                    "element": "29373",
                                    "count": "5"
                                },
                                {
                                    "element": "29404",
                                    "count": "5"
                                },
                                {
                                    "element": "29416",
                                    "count": "5"
                                }
                            ]
                        },
                        "text/html": [
                            "<table>",
                            "<tr><th>element</th><th>count</th></tr>",
                            "<tr><td>29401</td><td>19</td></tr>",
                            "<tr><td>29431</td><td>18</td></tr>",
                            "<tr><td>29352</td><td>18</td></tr>",
                            "<tr><td>29400</td><td>18</td></tr>",
                            "<tr><td>29381</td><td>17</td></tr>",
                            "<tr><td>29433</td><td>17</td></tr>",
                            "<tr><td>29406</td><td>17</td></tr>",
                            "<tr><td>29434</td><td>16</td></tr>",
                            "<tr><td>29359</td><td>16</td></tr>",
                            "<tr><td>29427</td><td>16</td></tr>",
                            "<tr><td>29417</td><td>15</td></tr>",
                            "<tr><td>29411</td><td>15</td></tr>",
                            "<tr><td>29354</td><td>15</td></tr>",
                            "<tr><td>29408</td><td>15</td></tr>",
                            "<tr><td>29374</td><td>14</td></tr>",
                            "<tr><td>29372</td><td>14</td></tr>",
                            "<tr><td>29384</td><td>14</td></tr>",
                            "<tr><td>29428</td><td>14</td></tr>",
                            "<tr><td>29410</td><td>14</td></tr>",
                            "<tr><td>29429</td><td>14</td></tr>",
                            "<tr><td>29370</td><td>14</td></tr>",
                            "<tr><td>29376</td><td>14</td></tr>",
                            "<tr><td>29368</td><td>14</td></tr>",
                            "<tr><td>29369</td><td>14</td></tr>",
                            "<tr><td>29414</td><td>14</td></tr>",
                            "<tr><td>29412</td><td>14</td></tr>",
                            "<tr><td>29403</td><td>13</td></tr>",
                            "<tr><td>29423</td><td>13</td></tr>",
                            "<tr><td>29364</td><td>13</td></tr>",
                            "<tr><td>29415</td><td>13</td></tr>",
                            "<tr><td>29402</td><td>13</td></tr>",
                            "<tr><td>29365</td><td>12</td></tr>",
                            "<tr><td>29390</td><td>12</td></tr>",
                            "<tr><td>29425</td><td>12</td></tr>",
                            "<tr><td>29397</td><td>12</td></tr>",
                            "<tr><td>29389</td><td>12</td></tr>",
                            "<tr><td>29432</td><td>12</td></tr>",
                            "<tr><td>29391</td><td>12</td></tr>",
                            "<tr><td>29367</td><td>12</td></tr>",
                            "<tr><td>29393</td><td>12</td></tr>",
                            "<tr><td>29358</td><td>12</td></tr>",
                            "<tr><td>29371</td><td>12</td></tr>",
                            "<tr><td>29398</td><td>11</td></tr>",
                            "<tr><td>29395</td><td>11</td></tr>",
                            "<tr><td>29351</td><td>11</td></tr>",
                            "<tr><td>29392</td><td>11</td></tr>",
                            "<tr><td>29385</td><td>11</td></tr>",
                            "<tr><td>29420</td><td>11</td></tr>",
                            "<tr><td>29419</td><td>11</td></tr>",
                            "<tr><td>29350</td><td>11</td></tr>",
                            "<tr><td>29422</td><td>10</td></tr>",
                            "<tr><td>29360</td><td>10</td></tr>",
                            "<tr><td>29394</td><td>10</td></tr>",
                            "<tr><td>29421</td><td>10</td></tr>",
                            "<tr><td>29355</td><td>10</td></tr>",
                            "<tr><td>29388</td><td>10</td></tr>",
                            "<tr><td>29366</td><td>10</td></tr>",
                            "<tr><td>29436</td><td>10</td></tr>",
                            "<tr><td>29378</td><td>10</td></tr>",
                            "<tr><td>29363</td><td>10</td></tr>",
                            "<tr><td>29357</td><td>10</td></tr>",
                            "<tr><td>29362</td><td>10</td></tr>",
                            "<tr><td>29396</td><td>10</td></tr>",
                            "<tr><td>29379</td><td>10</td></tr>",
                            "<tr><td>29435</td><td>10</td></tr>",
                            "<tr><td>29430</td><td>10</td></tr>",
                            "<tr><td>29413</td><td>10</td></tr>",
                            "<tr><td>29383</td><td>9</td></tr>",
                            "<tr><td>29356</td><td>9</td></tr>",
                            "<tr><td>29375</td><td>9</td></tr>",
                            "<tr><td>29407</td><td>9</td></tr>",
                            "<tr><td>29349</td><td>8</td></tr>",
                            "<tr><td>29424</td><td>8</td></tr>",
                            "<tr><td>29418</td><td>8</td></tr>",
                            "<tr><td>29405</td><td>8</td></tr>",
                            "<tr><td>29409</td><td>8</td></tr>",
                            "<tr><td>29399</td><td>8</td></tr>",
                            "<tr><td>29386</td><td>7</td></tr>",
                            "<tr><td>29426</td><td>7</td></tr>",
                            "<tr><td>29380</td><td>7</td></tr>",
                            "<tr><td>29387</td><td>7</td></tr>",
                            "<tr><td>29361</td><td>6</td></tr>",
                            "<tr><td>29382</td><td>6</td></tr>",
                            "<tr><td>29353</td><td>6</td></tr>",
                            "<tr><td>29377</td><td>5</td></tr>",
                            "<tr><td>29373</td><td>5</td></tr>",
                            "<tr><td>29404</td><td>5</td></tr>",
                            "<tr><td>29416</td><td>5</td></tr>",
                            "</table>"
                        ]
                    }
                }
            ],
            "execution_count": 5
        },
        {
            "cell_type": "markdown",
            "source": [
                "Question 6:"
            ],
            "metadata": {
                "azdata_cell_guid": "5bb4657a-ca2c-4891-b3f7-2f17d16e372a"
            },
            "attachments": {}
        },
        {
            "cell_type": "code",
            "source": [
                "SELECT persona, TO_CHAR(MIN(moment), 'Month YYYY') AS FirstEvent\n",
                "FROM events\n",
                "GROUP BY persona\n",
                "ORDER BY FirstEvent\n",
                "LIMIT 10;"
            ],
            "metadata": {
                "azdata_cell_guid": "3c3444b4-75d7-4427-a5de-8ef5f98936ff",
                "language": "sql"
            },
            "outputs": [
                {
                    "output_type": "display_data",
                    "data": {
                        "text/html": "(10 row(s) affected)"
                    },
                    "metadata": {}
                },
                {
                    "output_type": "display_data",
                    "data": {
                        "text/html": "Total execution time: 00:00:00.047"
                    },
                    "metadata": {}
                },
                {
                    "output_type": "execute_result",
                    "metadata": {},
                    "execution_count": 6,
                    "data": {
                        "application/vnd.dataresource+json": {
                            "schema": {
                                "fields": [
                                    {
                                        "name": "persona"
                                    },
                                    {
                                        "name": "firstevent"
                                    }
                                ]
                            },
                            "data": [
                                {
                                    "persona": "1193",
                                    "firstevent": "February  2015"
                                },
                                {
                                    "persona": "1161",
                                    "firstevent": "February  2015"
                                },
                                {
                                    "persona": "1172",
                                    "firstevent": "February  2015"
                                },
                                {
                                    "persona": "1229",
                                    "firstevent": "February  2015"
                                },
                                {
                                    "persona": "1204",
                                    "firstevent": "February  2015"
                                },
                                {
                                    "persona": "1240",
                                    "firstevent": "February  2015"
                                },
                                {
                                    "persona": "1233",
                                    "firstevent": "February  2015"
                                },
                                {
                                    "persona": "1181",
                                    "firstevent": "February  2015"
                                },
                                {
                                    "persona": "1189",
                                    "firstevent": "February  2015"
                                },
                                {
                                    "persona": "1191",
                                    "firstevent": "February  2015"
                                }
                            ]
                        },
                        "text/html": [
                            "<table>",
                            "<tr><th>persona</th><th>firstevent</th></tr>",
                            "<tr><td>1193</td><td>February  2015</td></tr>",
                            "<tr><td>1161</td><td>February  2015</td></tr>",
                            "<tr><td>1172</td><td>February  2015</td></tr>",
                            "<tr><td>1229</td><td>February  2015</td></tr>",
                            "<tr><td>1204</td><td>February  2015</td></tr>",
                            "<tr><td>1240</td><td>February  2015</td></tr>",
                            "<tr><td>1233</td><td>February  2015</td></tr>",
                            "<tr><td>1181</td><td>February  2015</td></tr>",
                            "<tr><td>1189</td><td>February  2015</td></tr>",
                            "<tr><td>1191</td><td>February  2015</td></tr>",
                            "</table>"
                        ]
                    }
                }
            ],
            "execution_count": 6
        }
    ]
}