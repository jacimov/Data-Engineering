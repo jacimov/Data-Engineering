{
    "metadata": {
        "kernelspec": {
            "name": "SQL",
            "display_name": "SQL",
            "language": "sql"
        },
        "language_info": {
            "name": "sql",
            "version": ""
        }
    },
    "nbformat_minor": 2,
    "nbformat": 4,
    "cells": [
        {
            "cell_type": "code",
            "source": [
                "CREATE TABLE Hospital (\n",
                "    hospital_pk CHAR(6) PRIMARY KEY,\n",
                "    hospital_name TEXT,\n",
                "    address TEXT,\n",
                "    city TEXT,\n",
                "    state CHAR(2),\n",
                "    zip TEXT,\n",
                "    fips_code CHAR(5)\n",
                ");\n",
                "\n",
                "\n",
                "CREATE TABLE weekly_hospital_stats (\n",
                "    hospital_pk CHAR(6),\n",
                "    collection_week TIMESTAMP,\n",
                "    all_adult_hospital_beds_7_day_avg NUMERIC,\n",
                "    all_pediatric_inpatient_beds_7_day_avg NUMERIC,\n",
                "    all_adult_hospital_inpatient_bed_occupied_7_day_avg NUMERIC,\n",
                "    all_pediatric_inpatient_bed_occupied_7_day_avg NUMERIC,\n",
                "    total_icu_beds_7_day_avg NUMERIC,\n",
                "    icu_beds_used_7_day_avg NUMERIC,\n",
                "    inpatient_beds_used_covid_7_day_avg NUMERIC,\n",
                "    staffed_icu_adult_patients_confirmed_covid_7_day_avg NUMERIC,\n",
                "    PRIMARY KEY (hospital_pk, collection_week),\n",
                "    FOREIGN KEY (hospital_pk) REFERENCES Hospital(hospital_pk)\n",
                ");\n",
                "\n",
                "\n",
                "CREATE TABLE hospital_quality(\n",
                "    hospital_pk CHAR(6) REFERENCES hospital (hospital_pk),\n",
                "    facility_name TEXT,\n",
                "    type_of_hospital TEXT,\n",
                "    type_of_ownership TEXT,\n",
                "    emergency_services BOOLEAN DEFAULT FALSE,\n",
                "    overall_quality_rating TEXT,\n",
                "    rating_year INTEGER,\n",
                "    PRIMARY KEY (hospital_pk, rating_year)\n",
                ");"
            ],
            "metadata": {
                "vscode": {
                    "languageId": "plaintext"
                },
                "azdata_cell_guid": "01a966a3-a466-4b31-a0f7-d28bac4efad7",
                "language": "sql"
            },
            "outputs": [
                {
                    "output_type": "display_data",
                    "data": {
                        "text/html": "CREATE TABLE"
                    },
                    "metadata": {}
                },
                {
                    "output_type": "display_data",
                    "data": {
                        "text/html": "CREATE TABLE"
                    },
                    "metadata": {}
                },
                {
                    "output_type": "display_data",
                    "data": {
                        "text/html": "CREATE TABLE"
                    },
                    "metadata": {}
                },
                {
                    "output_type": "display_data",
                    "data": {
                        "text/html": "Total execution time: 00:00:00.191"
                    },
                    "metadata": {}
                }
            ],
            "execution_count": 4
        },
        {
            "cell_type": "code",
            "source": [
                "-- if you want to drop these\n",
                "\n",
                "DROP TABLE hospital CASCADE;\n",
                "DROP TABLE weekly_hospital_stats CASCADE;\n",
                "drop table hospital_quality CASCADE;"
            ],
            "metadata": {
                "vscode": {
                    "languageId": "plaintext"
                },
                "azdata_cell_guid": "5d1d45ab-1bf2-48a7-ac3a-0bb4ea3c17e7",
                "language": "sql"
            },
            "outputs": [
                {
                    "output_type": "display_data",
                    "data": {
                        "text/html": "NOTICE: drop cascades to 2 other objects"
                    },
                    "metadata": {}
                },
                {
                    "output_type": "display_data",
                    "data": {
                        "text/html": "DROP TABLE"
                    },
                    "metadata": {}
                },
                {
                    "output_type": "display_data",
                    "data": {
                        "text/html": "DROP TABLE"
                    },
                    "metadata": {}
                },
                {
                    "output_type": "display_data",
                    "data": {
                        "text/html": "DROP TABLE"
                    },
                    "metadata": {}
                },
                {
                    "output_type": "display_data",
                    "data": {
                        "text/html": "Total execution time: 00:00:00.153"
                    },
                    "metadata": {}
                }
            ],
            "execution_count": 3
        }
    ]
}