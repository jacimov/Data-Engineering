{
    "metadata": {
        "kernelspec": {
            "name": "SQL",
            "display_name": "SQL",
            "language": "sql"
        },
        "language_info": {
            "name": "sql",
            "version": ""
        }
    },
    "nbformat_minor": 2,
    "nbformat": 4,
    "cells": [
        {
            "cell_type": "markdown",
            "source": [
                "- Exercise 3.5"
            ],
            "metadata": {
                "azdata_cell_guid": "dc0c92d6-006b-4ab3-8559-de2ccbc01f12"
            },
            "attachments": {}
        },
        {
            "cell_type": "code",
            "source": [
                "SELECT * FROM gems LIMIT 10;\n",
                "\n",
                "UPDATE gems\n",
                "SET label = 'thin'\n",
                "WHERE facets < 10;\n",
                "\n",
                "UPDATE gems\n",
                "SET label = 'wow',\n",
                "    price = CAST('100.0' AS money)\n",
                "WHERE facets > 20;\n",
                "\n",
                "DELETE FROM gems\n",
                "WHERE facets < 4;\n",
                ""
            ],
            "metadata": {
                "azdata_cell_guid": "11917397-d790-43f7-bc63-61ab88b40459",
                "language": "sql"
            },
            "outputs": [
                {
                    "output_type": "error",
                    "ename": "",
                    "evalue": "relation \"gems\" does not exist",
                    "traceback": []
                },
                {
                    "output_type": "display_data",
                    "data": {
                        "text/html": "Total execution time: 00:00:00.015"
                    },
                    "metadata": {}
                }
            ],
            "execution_count": 7
        },
        {
            "cell_type": "markdown",
            "source": [
                "- Exercise 3.6"
            ],
            "metadata": {
                "azdata_cell_guid": "13cb319b-756f-4b53-a27d-fc8d2a8df310"
            },
            "attachments": {}
        },
        {
            "cell_type": "code",
            "source": [
                "CREATE TABLE students (\n",
                "    student_id SERIAL PRIMARY KEY,\n",
                "    student_name VARCHAR(100) NOT NULL,\n",
                "    date_of_birth DATE CHECK (date_of_birth < CURRENT_DATE),\n",
                "    orientation_completed BOOLEAN DEFAULT FALSE,\n",
                "    tuition NUMERIC CHECK (tuition > 0),\n",
                "    scholarship NUMERIC DEFAULT 0 CHECK (scholarship < tuition)\n",
                ");"
            ],
            "metadata": {
                "azdata_cell_guid": "b7ba2c50-28b3-4df9-aa36-31a0eb229102",
                "language": "sql"
            },
            "outputs": [
                {
                    "output_type": "error",
                    "ename": "",
                    "evalue": "relation \"students\" already exists",
                    "traceback": []
                },
                {
                    "output_type": "display_data",
                    "data": {
                        "text/html": "Total execution time: 00:00:00.020"
                    },
                    "metadata": {}
                }
            ],
            "execution_count": 12
        },
        {
            "cell_type": "code",
            "source": [
                "INSERT INTO students (student_name, date_of_birth, tuition, scholarship)\n",
                "VALUES \n",
                "    ('Nicco Jacimovic', '2001-11-18', 10000, 2000),\n",
                "    ('Marco Jacimovic', '2001-11-18', 12000, 3000),\n",
                "    ('Alessandra Jacimovic', '1999-12-26', 15000, 0);"
            ],
            "metadata": {
                "azdata_cell_guid": "cfc095f8-adba-4d97-918e-6dc435188b8e",
                "language": "sql"
            },
            "outputs": [
                {
                    "output_type": "display_data",
                    "data": {
                        "text/html": "INSERT 0 3"
                    },
                    "metadata": {}
                },
                {
                    "output_type": "display_data",
                    "data": {
                        "text/html": "Total execution time: 00:00:00.018"
                    },
                    "metadata": {}
                }
            ],
            "execution_count": 15
        },
        {
            "cell_type": "code",
            "source": [
                "INSERT INTO students (student_name, date_of_birth, tuition, scholarship)\n",
                "VALUES ('Future Student', '2025-01-01', 0, 10000);"
            ],
            "metadata": {
                "azdata_cell_guid": "9028827d-1f0b-44fc-9ca4-d94a63b59fb2",
                "language": "sql"
            },
            "outputs": [
                {
                    "output_type": "error",
                    "ename": "",
                    "evalue": "new row for relation \"students\" violates check constraint \"students_check\"",
                    "traceback": []
                },
                {
                    "output_type": "display_data",
                    "data": {
                        "text/html": "Total execution time: 00:00:00.015"
                    },
                    "metadata": {}
                }
            ],
            "execution_count": 16
        },
        {
            "cell_type": "markdown",
            "source": [
                "- Exercise 3.7"
            ],
            "metadata": {
                "azdata_cell_guid": "06065650-cb50-4bb0-a14b-03d2ea8bea16"
            },
            "attachments": {}
        },
        {
            "cell_type": "code",
            "source": [
                "CREATE TABLE a (id SERIAL PRIMARY KEY, name TEXT);\n",
                "INSERT INTO a (name)\n",
                "       VALUES ('Pirate'),\n",
                "              ('Monkey'),\n",
                "              ('Ninja'),\n",
                "              ('Flying Spaghetti Monster');"
            ],
            "metadata": {
                "azdata_cell_guid": "76ffa0e5-c687-4db6-8111-88645150814b",
                "language": "sql",
                "tags": []
            },
            "outputs": [
                {
                    "output_type": "display_data",
                    "data": {
                        "text/html": "CREATE TABLE"
                    },
                    "metadata": {}
                },
                {
                    "output_type": "display_data",
                    "data": {
                        "text/html": "INSERT 0 4"
                    },
                    "metadata": {}
                },
                {
                    "output_type": "display_data",
                    "data": {
                        "text/html": "Total execution time: 00:00:00.056"
                    },
                    "metadata": {}
                }
            ],
            "execution_count": 1
        },
        {
            "cell_type": "code",
            "source": [
                "CREATE TABLE b (id SERIAL PRIMARY KEY, name TEXT);\n",
                "INSERT INTO b (name)\n",
                "       VALUES ('Rutabaga'),\n",
                "              ('Pirate'),\n",
                "              ('Darth Vader'),\n",
                "              ('Ninja');"
            ],
            "metadata": {
                "azdata_cell_guid": "88d66217-e411-4377-bad0-f94d956b5d57",
                "language": "sql"
            },
            "outputs": [
                {
                    "output_type": "display_data",
                    "data": {
                        "text/html": "CREATE TABLE"
                    },
                    "metadata": {}
                },
                {
                    "output_type": "display_data",
                    "data": {
                        "text/html": "INSERT 0 4"
                    },
                    "metadata": {}
                },
                {
                    "output_type": "display_data",
                    "data": {
                        "text/html": "Total execution time: 00:00:00.057"
                    },
                    "metadata": {}
                }
            ],
            "execution_count": 2
        },
        {
            "cell_type": "code",
            "source": [
                "SELECT a.name\n",
                "FROM a\n",
                "LEFT JOIN b ON a.name = b.name\n",
                "WHERE b.name IS NULL;"
            ],
            "metadata": {
                "azdata_cell_guid": "82ce6756-27bf-433b-aaaf-a6cd8b846fc2",
                "language": "sql"
            },
            "outputs": [
                {
                    "output_type": "display_data",
                    "data": {
                        "text/html": "(2 row(s) affected)"
                    },
                    "metadata": {}
                },
                {
                    "output_type": "display_data",
                    "data": {
                        "text/html": "Total execution time: 00:00:00.048"
                    },
                    "metadata": {}
                },
                {
                    "output_type": "execute_result",
                    "execution_count": 3,
                    "data": {
                        "application/vnd.dataresource+json": {
                            "schema": {
                                "fields": [
                                    {
                                        "name": "name"
                                    }
                                ]
                            },
                            "data": [
                                {
                                    "name": "Monkey"
                                },
                                {
                                    "name": "Flying Spaghetti Monster"
                                }
                            ]
                        },
                        "text/html": "<table><tr><th>name</th></tr><tr><td>Monkey</td></tr><tr><td>Flying Spaghetti Monster</td></tr></table>"
                    },
                    "metadata": {}
                }
            ],
            "execution_count": 3
        },
        {
            "cell_type": "code",
            "source": [
                "SELECT a.name\n",
                "FROM a\n",
                "LEFT JOIN b ON a.name = b.name\n",
                "WHERE b.name IS NULL\n",
                "\n",
                "UNION\n",
                "\n",
                "SELECT b.name\n",
                "FROM b\n",
                "LEFT JOIN a ON b.name = a.name\n",
                "WHERE a.name IS NULL;"
            ],
            "metadata": {
                "azdata_cell_guid": "9f98a398-0609-4141-8750-e4f44b322d51",
                "language": "sql"
            },
            "outputs": [
                {
                    "output_type": "display_data",
                    "data": {
                        "text/html": "(4 row(s) affected)"
                    },
                    "metadata": {}
                },
                {
                    "output_type": "display_data",
                    "data": {
                        "text/html": "Total execution time: 00:00:00.041"
                    },
                    "metadata": {}
                },
                {
                    "output_type": "execute_result",
                    "execution_count": 4,
                    "data": {
                        "application/vnd.dataresource+json": {
                            "schema": {
                                "fields": [
                                    {
                                        "name": "name"
                                    }
                                ]
                            },
                            "data": [
                                {
                                    "name": "Rutabaga"
                                },
                                {
                                    "name": "Flying Spaghetti Monster"
                                },
                                {
                                    "name": "Darth Vader"
                                },
                                {
                                    "name": "Monkey"
                                }
                            ]
                        },
                        "text/html": "<table><tr><th>name</th></tr><tr><td>Rutabaga</td></tr><tr><td>Flying Spaghetti Monster</td></tr><tr><td>Darth Vader</td></tr><tr><td>Monkey</td></tr></table>"
                    },
                    "metadata": {}
                }
            ],
            "execution_count": 4
        },
        {
            "cell_type": "markdown",
            "source": [
                "- Exercise 3.8"
            ],
            "metadata": {
                "azdata_cell_guid": "bf45f6dd-759c-4745-83f9-529a40a7e52b"
            },
            "attachments": {}
        },
        {
            "cell_type": "code",
            "source": [
                "SELECT \n",
                "    events.id AS event_id,\n",
                "    events.score,\n",
                "    CONCAT(personae.firstname, ' ', personae.lastname) AS student_name,\n",
                "    personae.birthdate,\n",
                "    elements.points_max AS max_points_possible\n",
                "FROM \n",
                "    events\n",
                "JOIN \n",
                "    personae ON events.persona = personae.id\n",
                "JOIN \n",
                "    elements ON events.element = elements.id\n",
                "LIMIT 10;"
            ],
            "metadata": {
                "azdata_cell_guid": "b4b1913b-3f0d-4413-b237-87ffbf6a723f",
                "language": "sql"
            },
            "outputs": [
                {
                    "output_type": "display_data",
                    "data": {
                        "text/html": "(10 row(s) affected)"
                    },
                    "metadata": {}
                },
                {
                    "output_type": "display_data",
                    "data": {
                        "text/html": "Total execution time: 00:00:00.033"
                    },
                    "metadata": {}
                },
                {
                    "output_type": "execute_result",
                    "metadata": {},
                    "execution_count": 1,
                    "data": {
                        "application/vnd.dataresource+json": {
                            "schema": {
                                "fields": [
                                    {
                                        "name": "event_id"
                                    },
                                    {
                                        "name": "score"
                                    },
                                    {
                                        "name": "student_name"
                                    },
                                    {
                                        "name": "birthdate"
                                    },
                                    {
                                        "name": "max_points_possible"
                                    }
                                ]
                            },
                            "data": [
                                {
                                    "event_id": "1",
                                    "score": "376",
                                    "student_name": "Monica Rodriguez",
                                    "birthdate": "1989-07-04",
                                    "max_points_possible": "0"
                                },
                                {
                                    "event_id": "2",
                                    "score": "887",
                                    "student_name": "Sherry Mcmillian",
                                    "birthdate": "1989-03-13",
                                    "max_points_possible": "3"
                                },
                                {
                                    "event_id": "3",
                                    "score": "459",
                                    "student_name": "Wilson Henderson",
                                    "birthdate": "1987-12-08",
                                    "max_points_possible": "7"
                                },
                                {
                                    "event_id": "4",
                                    "score": "914",
                                    "student_name": "Laura Almy",
                                    "birthdate": "1988-01-07",
                                    "max_points_possible": "4"
                                },
                                {
                                    "event_id": "5",
                                    "score": "82",
                                    "student_name": "Heather Peabody",
                                    "birthdate": "1987-12-23",
                                    "max_points_possible": "1"
                                },
                                {
                                    "event_id": "6",
                                    "score": "191",
                                    "student_name": "Teri Crowley",
                                    "birthdate": "1988-10-26",
                                    "max_points_possible": "7"
                                },
                                {
                                    "event_id": "7",
                                    "score": "849",
                                    "student_name": "Benny Giglio",
                                    "birthdate": "1989-07-03",
                                    "max_points_possible": "4"
                                },
                                {
                                    "event_id": "8",
                                    "score": "836",
                                    "student_name": "Patricia Innis",
                                    "birthdate": "1989-08-19",
                                    "max_points_possible": "3"
                                },
                                {
                                    "event_id": "9",
                                    "score": "123",
                                    "student_name": "Dustin Stewart",
                                    "birthdate": "1988-07-24",
                                    "max_points_possible": "1"
                                },
                                {
                                    "event_id": "10",
                                    "score": "411",
                                    "student_name": "Brett Rodriguez",
                                    "birthdate": "1989-01-12",
                                    "max_points_possible": "1"
                                }
                            ]
                        },
                        "text/html": [
                            "<table>",
                            "<tr><th>event_id</th><th>score</th><th>student_name</th><th>birthdate</th><th>max_points_possible</th></tr>",
                            "<tr><td>1</td><td>376</td><td>Monica Rodriguez</td><td>1989-07-04</td><td>0</td></tr>",
                            "<tr><td>2</td><td>887</td><td>Sherry Mcmillian</td><td>1989-03-13</td><td>3</td></tr>",
                            "<tr><td>3</td><td>459</td><td>Wilson Henderson</td><td>1987-12-08</td><td>7</td></tr>",
                            "<tr><td>4</td><td>914</td><td>Laura Almy</td><td>1988-01-07</td><td>4</td></tr>",
                            "<tr><td>5</td><td>82</td><td>Heather Peabody</td><td>1987-12-23</td><td>1</td></tr>",
                            "<tr><td>6</td><td>191</td><td>Teri Crowley</td><td>1988-10-26</td><td>7</td></tr>",
                            "<tr><td>7</td><td>849</td><td>Benny Giglio</td><td>1989-07-03</td><td>4</td></tr>",
                            "<tr><td>8</td><td>836</td><td>Patricia Innis</td><td>1989-08-19</td><td>3</td></tr>",
                            "<tr><td>9</td><td>123</td><td>Dustin Stewart</td><td>1988-07-24</td><td>1</td></tr>",
                            "<tr><td>10</td><td>411</td><td>Brett Rodriguez</td><td>1989-01-12</td><td>1</td></tr>",
                            "</table>"
                        ]
                    }
                }
            ],
            "execution_count": 1
        },
        {
            "cell_type": "code",
            "source": [
                "SELECT \n",
                "    events.id AS event_id,\n",
                "    events.score,\n",
                "    CONCAT(personae.firstname, ' ', personae.lastname) AS student_name,\n",
                "    personae.birthdate,\n",
                "    elements.points_max AS max_points_possible\n",
                "FROM \n",
                "    events\n",
                "JOIN \n",
                "    personae ON events.persona = personae.id\n",
                "JOIN \n",
                "    elements ON events.element = elements.id\n",
                "WHERE \n",
                "    events.score > elements.points_max\n",
                "LIMIT 10;"
            ],
            "metadata": {
                "azdata_cell_guid": "8153f22f-52e4-4eee-9aca-c29456ed5215",
                "language": "sql"
            },
            "outputs": [
                {
                    "output_type": "display_data",
                    "data": {
                        "text/html": "(10 row(s) affected)"
                    },
                    "metadata": {}
                },
                {
                    "output_type": "display_data",
                    "data": {
                        "text/html": "Total execution time: 00:00:00.044"
                    },
                    "metadata": {}
                },
                {
                    "output_type": "execute_result",
                    "execution_count": 25,
                    "data": {
                        "application/vnd.dataresource+json": {
                            "schema": {
                                "fields": [
                                    {
                                        "name": "event_id"
                                    },
                                    {
                                        "name": "score"
                                    },
                                    {
                                        "name": "student_name"
                                    },
                                    {
                                        "name": "birthdate"
                                    },
                                    {
                                        "name": "max_points_possible"
                                    }
                                ]
                            },
                            "data": [
                                {
                                    "event_id": "1",
                                    "score": "376",
                                    "student_name": "Monica Rodriguez",
                                    "birthdate": "1989-07-04",
                                    "max_points_possible": "0"
                                },
                                {
                                    "event_id": "2",
                                    "score": "887",
                                    "student_name": "Sherry Mcmillian",
                                    "birthdate": "1989-03-13",
                                    "max_points_possible": "3"
                                },
                                {
                                    "event_id": "3",
                                    "score": "459",
                                    "student_name": "Wilson Henderson",
                                    "birthdate": "1987-12-08",
                                    "max_points_possible": "7"
                                },
                                {
                                    "event_id": "4",
                                    "score": "914",
                                    "student_name": "Laura Almy",
                                    "birthdate": "1988-01-07",
                                    "max_points_possible": "4"
                                },
                                {
                                    "event_id": "5",
                                    "score": "82",
                                    "student_name": "Heather Peabody",
                                    "birthdate": "1987-12-23",
                                    "max_points_possible": "1"
                                },
                                {
                                    "event_id": "6",
                                    "score": "191",
                                    "student_name": "Teri Crowley",
                                    "birthdate": "1988-10-26",
                                    "max_points_possible": "7"
                                },
                                {
                                    "event_id": "7",
                                    "score": "849",
                                    "student_name": "Benny Giglio",
                                    "birthdate": "1989-07-03",
                                    "max_points_possible": "4"
                                },
                                {
                                    "event_id": "8",
                                    "score": "836",
                                    "student_name": "Patricia Innis",
                                    "birthdate": "1989-08-19",
                                    "max_points_possible": "3"
                                },
                                {
                                    "event_id": "9",
                                    "score": "123",
                                    "student_name": "Dustin Stewart",
                                    "birthdate": "1988-07-24",
                                    "max_points_possible": "1"
                                },
                                {
                                    "event_id": "10",
                                    "score": "411",
                                    "student_name": "Brett Rodriguez",
                                    "birthdate": "1989-01-12",
                                    "max_points_possible": "1"
                                }
                            ]
                        },
                        "text/html": "<table><tr><th>event_id</th><th>score</th><th>student_name</th><th>birthdate</th><th>max_points_possible</th></tr><tr><td>1</td><td>376</td><td>Monica Rodriguez</td><td>1989-07-04</td><td>0</td></tr><tr><td>2</td><td>887</td><td>Sherry Mcmillian</td><td>1989-03-13</td><td>3</td></tr><tr><td>3</td><td>459</td><td>Wilson Henderson</td><td>1987-12-08</td><td>7</td></tr><tr><td>4</td><td>914</td><td>Laura Almy</td><td>1988-01-07</td><td>4</td></tr><tr><td>5</td><td>82</td><td>Heather Peabody</td><td>1987-12-23</td><td>1</td></tr><tr><td>6</td><td>191</td><td>Teri Crowley</td><td>1988-10-26</td><td>7</td></tr><tr><td>7</td><td>849</td><td>Benny Giglio</td><td>1989-07-03</td><td>4</td></tr><tr><td>8</td><td>836</td><td>Patricia Innis</td><td>1989-08-19</td><td>3</td></tr><tr><td>9</td><td>123</td><td>Dustin Stewart</td><td>1988-07-24</td><td>1</td></tr><tr><td>10</td><td>411</td><td>Brett Rodriguez</td><td>1989-01-12</td><td>1</td></tr></table>"
                    },
                    "metadata": {}
                }
            ],
            "execution_count": 25
        },
        {
            "cell_type": "code",
            "source": [
                "SELECT \n",
                "    elements.id AS element_id\n",
                "FROM \n",
                "    elements\n",
                "LEFT JOIN \n",
                "    events ON elements.id = events.element\n",
                "WHERE \n",
                "    events.element IS NULL\n",
                "LIMIT 10;"
            ],
            "metadata": {
                "azdata_cell_guid": "4daff38c-3325-418c-b768-1dbead8c36ea",
                "language": "sql"
            },
            "outputs": [
                {
                    "output_type": "display_data",
                    "data": {
                        "text/html": "(10 row(s) affected)"
                    },
                    "metadata": {}
                },
                {
                    "output_type": "display_data",
                    "data": {
                        "text/html": "Total execution time: 00:00:00.044"
                    },
                    "metadata": {}
                },
                {
                    "output_type": "execute_result",
                    "execution_count": 26,
                    "data": {
                        "application/vnd.dataresource+json": {
                            "schema": {
                                "fields": [
                                    {
                                        "name": "element_id"
                                    }
                                ]
                            },
                            "data": [
                                {
                                    "element_id": "29344"
                                },
                                {
                                    "element_id": "29318"
                                },
                                {
                                    "element_id": "29319"
                                },
                                {
                                    "element_id": "29440"
                                },
                                {
                                    "element_id": "29339"
                                },
                                {
                                    "element_id": "29327"
                                },
                                {
                                    "element_id": "29326"
                                },
                                {
                                    "element_id": "29331"
                                },
                                {
                                    "element_id": "29449"
                                },
                                {
                                    "element_id": "29316"
                                }
                            ]
                        },
                        "text/html": "<table><tr><th>element_id</th></tr><tr><td>29344</td></tr><tr><td>29318</td></tr><tr><td>29319</td></tr><tr><td>29440</td></tr><tr><td>29339</td></tr><tr><td>29327</td></tr><tr><td>29326</td></tr><tr><td>29331</td></tr><tr><td>29449</td></tr><tr><td>29316</td></tr></table>"
                    },
                    "metadata": {}
                }
            ],
            "execution_count": 26
        },
        {
            "cell_type": "code",
            "source": [
                "SELECT \n",
                "    elements.id AS element_id,\n",
                "    AVG(events.score) AS average_score\n",
                "FROM \n",
                "    elements\n",
                "JOIN \n",
                "    events ON elements.id = events.element\n",
                "GROUP BY \n",
                "    elements.id\n",
                "LIMIT 10;"
            ],
            "metadata": {
                "azdata_cell_guid": "10e749a6-e3e5-43cf-a86c-706585c3cfd9",
                "language": "sql"
            },
            "outputs": [
                {
                    "output_type": "display_data",
                    "data": {
                        "text/html": "(10 row(s) affected)"
                    },
                    "metadata": {}
                },
                {
                    "output_type": "display_data",
                    "data": {
                        "text/html": "Total execution time: 00:00:00.043"
                    },
                    "metadata": {}
                },
                {
                    "output_type": "execute_result",
                    "execution_count": 27,
                    "data": {
                        "application/vnd.dataresource+json": {
                            "schema": {
                                "fields": [
                                    {
                                        "name": "element_id"
                                    },
                                    {
                                        "name": "average_score"
                                    }
                                ]
                            },
                            "data": [
                                {
                                    "element_id": "29408",
                                    "average_score": "572.2666666666666667"
                                },
                                {
                                    "element_id": "29430",
                                    "average_score": "588.0000000000000000"
                                },
                                {
                                    "element_id": "29399",
                                    "average_score": "543.8750000000000000"
                                },
                                {
                                    "element_id": "29425",
                                    "average_score": "510.7500000000000000"
                                },
                                {
                                    "element_id": "29392",
                                    "average_score": "432.3636363636363636"
                                },
                                {
                                    "element_id": "29390",
                                    "average_score": "534.6666666666666667"
                                },
                                {
                                    "element_id": "29362",
                                    "average_score": "583.2000000000000000"
                                },
                                {
                                    "element_id": "29369",
                                    "average_score": "571.5714285714285714"
                                },
                                {
                                    "element_id": "29357",
                                    "average_score": "481.7000000000000000"
                                },
                                {
                                    "element_id": "29400",
                                    "average_score": "525.1666666666666667"
                                }
                            ]
                        },
                        "text/html": "<table><tr><th>element_id</th><th>average_score</th></tr><tr><td>29408</td><td>572.2666666666666667</td></tr><tr><td>29430</td><td>588.0000000000000000</td></tr><tr><td>29399</td><td>543.8750000000000000</td></tr><tr><td>29425</td><td>510.7500000000000000</td></tr><tr><td>29392</td><td>432.3636363636363636</td></tr><tr><td>29390</td><td>534.6666666666666667</td></tr><tr><td>29362</td><td>583.2000000000000000</td></tr><tr><td>29369</td><td>571.5714285714285714</td></tr><tr><td>29357</td><td>481.7000000000000000</td></tr><tr><td>29400</td><td>525.1666666666666667</td></tr></table>"
                    },
                    "metadata": {}
                }
            ],
            "execution_count": 27
        },
        {
            "cell_type": "code",
            "source": [
                "SELECT \n",
                "    SUM(events.score) AS total_score\n",
                "FROM \n",
                "    events\n",
                "JOIN \n",
                "    personae ON events.persona = personae.id\n",
                "WHERE \n",
                "    personae.birthdate > '1988-06-01';"
            ],
            "metadata": {
                "azdata_cell_guid": "b1ae6aee-d313-426c-bf5b-82ad91911e28",
                "language": "sql"
            },
            "outputs": [
                {
                    "output_type": "display_data",
                    "data": {
                        "text/html": "(1 row(s) affected)"
                    },
                    "metadata": {}
                },
                {
                    "output_type": "display_data",
                    "data": {
                        "text/html": "Total execution time: 00:00:00.029"
                    },
                    "metadata": {}
                },
                {
                    "output_type": "execute_result",
                    "metadata": {},
                    "execution_count": 2,
                    "data": {
                        "application/vnd.dataresource+json": {
                            "schema": {
                                "fields": [
                                    {
                                        "name": "total_score"
                                    }
                                ]
                            },
                            "data": [
                                {
                                    "total_score": "255629"
                                }
                            ]
                        },
                        "text/html": [
                            "<table>",
                            "<tr><th>total_score</th></tr>",
                            "<tr><td>255629</td></tr>",
                            "</table>"
                        ]
                    }
                }
            ],
            "execution_count": 2
        },
        {
            "cell_type": "markdown",
            "source": [
                "- Exercise 4.1"
            ],
            "metadata": {
                "azdata_cell_guid": "af7f8535-05d6-4bad-a1c6-aa00331632f2"
            },
            "attachments": {}
        },
        {
            "cell_type": "code",
            "source": [
                "CREATE TABLE Artist (\n",
                "    id SERIAL PRIMARY KEY,\n",
                "    name VARCHAR(255) NOT NULL,\n",
                "    year_of_birth INT\n",
                ");"
            ],
            "metadata": {
                "azdata_cell_guid": "397e97fc-e494-435f-ac5e-10d62c2e1c32",
                "language": "sql"
            },
            "outputs": [
                {
                    "output_type": "error",
                    "ename": "",
                    "evalue": "relation \"artist\" already exists",
                    "traceback": []
                },
                {
                    "output_type": "display_data",
                    "data": {
                        "text/html": "Total execution time: 00:00:00.024"
                    },
                    "metadata": {}
                }
            ],
            "execution_count": 35
        },
        {
            "cell_type": "code",
            "source": [
                "CREATE TABLE RecordLabel (\n",
                "    id SERIAL PRIMARY KEY,\n",
                "    name VARCHAR(255) NOT NULL,\n",
                "    street_address VARCHAR(255),\n",
                "    city VARCHAR(255),\n",
                "    state_name VARCHAR(255),\n",
                "    state_abbrev CHAR(2),\n",
                "    zip VARCHAR(10)\n",
                ");"
            ],
            "metadata": {
                "azdata_cell_guid": "2ef85954-558a-4df6-8eee-f1cf65be9644",
                "language": "sql"
            },
            "outputs": [
                {
                    "output_type": "error",
                    "ename": "",
                    "evalue": "relation \"recordlabel\" already exists",
                    "traceback": []
                },
                {
                    "output_type": "display_data",
                    "data": {
                        "text/html": "Total execution time: 00:00:00.022"
                    },
                    "metadata": {}
                }
            ],
            "execution_count": 34
        },
        {
            "cell_type": "code",
            "source": [
                "CREATE TABLE Album (\n",
                "    id SERIAL PRIMARY KEY,\n",
                "    title VARCHAR(255) NOT NULL,\n",
                "    label_id INT REFERENCES RecordLabel(id),\n",
                "    artist_id INT REFERENCES Artist(id)\n",
                ");"
            ],
            "metadata": {
                "azdata_cell_guid": "9c0bbc05-1755-4b7c-8af2-70580acecfca",
                "language": "sql"
            },
            "outputs": [
                {
                    "output_type": "error",
                    "ename": "",
                    "evalue": "relation \"album\" already exists",
                    "traceback": []
                },
                {
                    "output_type": "display_data",
                    "data": {
                        "text/html": "Total execution time: 00:00:00.028"
                    },
                    "metadata": {}
                }
            ],
            "execution_count": 33
        },
        {
            "cell_type": "code",
            "source": [
                "CREATE TABLE Song (\n",
                "    id SERIAL PRIMARY KEY,\n",
                "    name VARCHAR(255) NOT NULL,\n",
                "    duration TIME\n",
                ");"
            ],
            "metadata": {
                "azdata_cell_guid": "19edb56e-341b-42c3-8e7b-3fe7d16acc6d",
                "language": "sql"
            },
            "outputs": [
                {
                    "output_type": "error",
                    "ename": "",
                    "evalue": "relation \"song\" already exists",
                    "traceback": []
                },
                {
                    "output_type": "display_data",
                    "data": {
                        "text/html": "Total execution time: 00:00:00.028"
                    },
                    "metadata": {}
                }
            ],
            "execution_count": 37
        },
        {
            "cell_type": "code",
            "source": [
                "CREATE TABLE Track (\n",
                "    id SERIAL PRIMARY KEY,\n",
                "    song_id INT REFERENCES Song(id),\n",
                "    album_id INT REFERENCES Album(id),\n",
                "    track_index INT\n",
                ");"
            ],
            "metadata": {
                "azdata_cell_guid": "b619cf63-e22c-41c4-9785-6cdfc9bf4d3f",
                "language": "sql"
            },
            "outputs": [
                {
                    "output_type": "display_data",
                    "data": {
                        "text/html": "CREATE TABLE"
                    },
                    "metadata": {}
                },
                {
                    "output_type": "display_data",
                    "data": {
                        "text/html": "Total execution time: 00:00:00.032"
                    },
                    "metadata": {}
                }
            ],
            "execution_count": 38
        }
    ]
}