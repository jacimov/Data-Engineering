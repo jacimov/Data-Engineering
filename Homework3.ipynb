{
    "metadata": {
        "kernelspec": {
            "name": "SQL",
            "display_name": "SQL",
            "language": "sql"
        },
        "language_info": {
            "name": "sql",
            "version": ""
        }
    },
    "nbformat_minor": 2,
    "nbformat": 4,
    "cells": [
        {
            "cell_type": "markdown",
            "source": [
                "Exercise 4.2"
            ],
            "metadata": {
                "azdata_cell_guid": "a8c8fd59-9f7c-4fa9-9109-447b6a64e8a2"
            },
            "attachments": {}
        },
        {
            "cell_type": "code",
            "source": [
                "-- Players table\n",
                "CREATE TABLE players (\n",
                "    id INTEGER PRIMARY KEY,\n",
                "    first_name TEXT,\n",
                "    last_name TEXT,\n",
                "    birth_date DATE\n",
                ");\n",
                "\n",
                "-- Teams table\n",
                "CREATE TABLE teams (\n",
                "    id INTEGER PRIMARY KEY,\n",
                "    name TEXT NOT NULL,\n",
                "    city TEXT\n",
                ");\n",
                "\n",
                "-- Venues table\n",
                "CREATE TABLE venues (\n",
                "    id INTEGER PRIMARY KEY,\n",
                "    name TEXT NOT NULL,\n",
                "    city TEXT,\n",
                "    capacity INTEGER\n",
                ");\n",
                "\n",
                "-- Players-Teams table\n",
                "CREATE TABLE player_teams (\n",
                "    id INTEGER PRIMARY KEY,\n",
                "    player_id INTEGER,\n",
                "    team_id INTEGER,\n",
                "    start_date DATE NOT NULL,\n",
                "    end_date DATE,\n",
                "    FOREIGN KEY (player_id) REFERENCES players(id),\n",
                "    FOREIGN KEY (team_id) REFERENCES teams(id)\n",
                ");\n",
                "\n",
                "-- Games table\n",
                "CREATE TABLE games (\n",
                "    id INTEGER PRIMARY KEY,\n",
                "    home_team_id INTEGER,\n",
                "    away_team_id INTEGER,\n",
                "    venue_id INTEGER,\n",
                "    game_date DATE NOT NULL,\n",
                "    home_score INTEGER,\n",
                "    away_score INTEGER,\n",
                "    FOREIGN KEY (home_team_id) REFERENCES teams(id),\n",
                "    FOREIGN KEY (away_team_id) REFERENCES teams(id),\n",
                "    FOREIGN KEY (venue_id) REFERENCES venues(id)\n",
                ");"
            ],
            "metadata": {
                "azdata_cell_guid": "a7f101fa-9ba6-433a-8fef-ac3a05cb1538",
                "language": "sql"
            },
            "outputs": [
                {
                    "output_type": "display_data",
                    "data": {
                        "text/html": "CREATE TABLE"
                    },
                    "metadata": {}
                },
                {
                    "output_type": "display_data",
                    "data": {
                        "text/html": "Total execution time: 00:00:00.033"
                    },
                    "metadata": {}
                }
            ],
            "execution_count": 2
        },
        {
            "cell_type": "markdown",
            "source": [
                "Exercise 4.3"
            ],
            "metadata": {
                "azdata_cell_guid": "a50d4b87-b54a-45d6-b4d9-78809577d6ee"
            },
            "attachments": {}
        },
        {
            "cell_type": "code",
            "source": [
                "SELECT e.moment, e.persona, e.score \n",
                "FROM events e\n",
                "JOIN personae p ON e.persona = p.id\n",
                "WHERE p.account_balance < 0::money\n",
                "LIMIT 10;\n",
                "\n",
                "SELECT e.moment, e.persona, e.score\n",
                "FROM events e\n",
                "JOIN personae p ON e.persona = p.id\n",
                "LIMIT 10;"
            ],
            "metadata": {
                "azdata_cell_guid": "966ad0f9-2866-444d-8096-ea61fe4fb5a4",
                "language": "sql"
            },
            "outputs": [
                {
                    "output_type": "display_data",
                    "data": {
                        "text/html": "(10 row(s) affected)"
                    },
                    "metadata": {}
                },
                {
                    "output_type": "display_data",
                    "data": {
                        "text/html": "(10 row(s) affected)"
                    },
                    "metadata": {}
                },
                {
                    "output_type": "display_data",
                    "data": {
                        "text/html": "Total execution time: 00:00:00.102"
                    },
                    "metadata": {}
                },
                {
                    "output_type": "execute_result",
                    "metadata": {},
                    "execution_count": 3,
                    "data": {
                        "application/vnd.dataresource+json": {
                            "schema": {
                                "fields": [
                                    {
                                        "name": "moment"
                                    },
                                    {
                                        "name": "persona"
                                    },
                                    {
                                        "name": "score"
                                    }
                                ]
                            },
                            "data": [
                                {
                                    "moment": "2015-02-08 06:08:19.023914",
                                    "persona": "1202",
                                    "score": "376"
                                },
                                {
                                    "moment": "2015-02-10 04:36:50.351372",
                                    "persona": "1193",
                                    "score": "914"
                                },
                                {
                                    "moment": "2015-02-14 10:04:45.21452",
                                    "persona": "1162",
                                    "score": "849"
                                },
                                {
                                    "moment": "2015-02-06 11:13:57.207127",
                                    "persona": "1180",
                                    "score": "411"
                                },
                                {
                                    "moment": "2015-03-06 11:55:25.404453",
                                    "persona": "1197",
                                    "score": "483"
                                },
                                {
                                    "moment": "2015-02-23 09:33:15.771217",
                                    "persona": "1200",
                                    "score": "848"
                                },
                                {
                                    "moment": "2015-02-02 00:58:51.281376",
                                    "persona": "1236",
                                    "score": "923"
                                },
                                {
                                    "moment": "2015-01-24 00:41:27.107277",
                                    "persona": "1174",
                                    "score": "744"
                                },
                                {
                                    "moment": "2015-01-29 14:48:57.837696",
                                    "persona": "1236",
                                    "score": "47"
                                },
                                {
                                    "moment": "2015-01-28 16:08:37.678356",
                                    "persona": "1155",
                                    "score": "632"
                                }
                            ]
                        },
                        "text/html": [
                            "<table>",
                            "<tr><th>moment</th><th>persona</th><th>score</th></tr>",
                            "<tr><td>2015-02-08 06:08:19.023914</td><td>1202</td><td>376</td></tr>",
                            "<tr><td>2015-02-10 04:36:50.351372</td><td>1193</td><td>914</td></tr>",
                            "<tr><td>2015-02-14 10:04:45.21452</td><td>1162</td><td>849</td></tr>",
                            "<tr><td>2015-02-06 11:13:57.207127</td><td>1180</td><td>411</td></tr>",
                            "<tr><td>2015-03-06 11:55:25.404453</td><td>1197</td><td>483</td></tr>",
                            "<tr><td>2015-02-23 09:33:15.771217</td><td>1200</td><td>848</td></tr>",
                            "<tr><td>2015-02-02 00:58:51.281376</td><td>1236</td><td>923</td></tr>",
                            "<tr><td>2015-01-24 00:41:27.107277</td><td>1174</td><td>744</td></tr>",
                            "<tr><td>2015-01-29 14:48:57.837696</td><td>1236</td><td>47</td></tr>",
                            "<tr><td>2015-01-28 16:08:37.678356</td><td>1155</td><td>632</td></tr>",
                            "</table>"
                        ]
                    }
                },
                {
                    "output_type": "execute_result",
                    "metadata": {},
                    "execution_count": 3,
                    "data": {
                        "application/vnd.dataresource+json": {
                            "schema": {
                                "fields": [
                                    {
                                        "name": "moment"
                                    },
                                    {
                                        "name": "persona"
                                    },
                                    {
                                        "name": "score"
                                    }
                                ]
                            },
                            "data": [
                                {
                                    "moment": "2015-02-08 06:08:19.023914",
                                    "persona": "1202",
                                    "score": "376"
                                },
                                {
                                    "moment": "2015-01-31 15:57:44.714527",
                                    "persona": "1168",
                                    "score": "887"
                                },
                                {
                                    "moment": "2015-03-02 17:56:15.731277",
                                    "persona": "1189",
                                    "score": "459"
                                },
                                {
                                    "moment": "2015-02-10 04:36:50.351372",
                                    "persona": "1193",
                                    "score": "914"
                                },
                                {
                                    "moment": "2015-01-23 07:36:21.692505",
                                    "persona": "1192",
                                    "score": "82"
                                },
                                {
                                    "moment": "2015-02-25 04:10:03.322792",
                                    "persona": "1210",
                                    "score": "191"
                                },
                                {
                                    "moment": "2015-02-14 10:04:45.21452",
                                    "persona": "1162",
                                    "score": "849"
                                },
                                {
                                    "moment": "2015-01-31 08:27:51.924305",
                                    "persona": "1212",
                                    "score": "836"
                                },
                                {
                                    "moment": "2015-02-04 12:13:21.023483",
                                    "persona": "1187",
                                    "score": "123"
                                },
                                {
                                    "moment": "2015-02-06 11:13:57.207127",
                                    "persona": "1180",
                                    "score": "411"
                                }
                            ]
                        },
                        "text/html": [
                            "<table>",
                            "<tr><th>moment</th><th>persona</th><th>score</th></tr>",
                            "<tr><td>2015-02-08 06:08:19.023914</td><td>1202</td><td>376</td></tr>",
                            "<tr><td>2015-01-31 15:57:44.714527</td><td>1168</td><td>887</td></tr>",
                            "<tr><td>2015-03-02 17:56:15.731277</td><td>1189</td><td>459</td></tr>",
                            "<tr><td>2015-02-10 04:36:50.351372</td><td>1193</td><td>914</td></tr>",
                            "<tr><td>2015-01-23 07:36:21.692505</td><td>1192</td><td>82</td></tr>",
                            "<tr><td>2015-02-25 04:10:03.322792</td><td>1210</td><td>191</td></tr>",
                            "<tr><td>2015-02-14 10:04:45.21452</td><td>1162</td><td>849</td></tr>",
                            "<tr><td>2015-01-31 08:27:51.924305</td><td>1212</td><td>836</td></tr>",
                            "<tr><td>2015-02-04 12:13:21.023483</td><td>1187</td><td>123</td></tr>",
                            "<tr><td>2015-02-06 11:13:57.207127</td><td>1180</td><td>411</td></tr>",
                            "</table>"
                        ]
                    }
                }
            ],
            "execution_count": 3
        },
        {
            "cell_type": "markdown",
            "source": [
                "Exercise 4.4"
            ],
            "metadata": {
                "azdata_cell_guid": "6212344b-9b49-4951-b701-695e93f8d0a5"
            },
            "attachments": {}
        },
        {
            "cell_type": "code",
            "source": [
                "-- Calculate averages per persona\n",
                "SELECT e.id, e.persona, e.element, e.score, (e.score - avg_score) / std_score AS z_score\n",
                "FROM events e\n",
                "JOIN (SELECT persona, AVG(score) as avg_score, STDDEV(score) as std_score FROM events GROUP BY persona) as stats ON e.persona = stats.persona\n",
                "LIMIT 10;"
            ],
            "metadata": {
                "azdata_cell_guid": "42caf200-27d0-468c-9422-8bbd41fbdbba",
                "language": "sql"
            },
            "outputs": [
                {
                    "output_type": "display_data",
                    "data": {
                        "text/html": "(10 row(s) affected)"
                    },
                    "metadata": {}
                },
                {
                    "output_type": "display_data",
                    "data": {
                        "text/html": "Total execution time: 00:00:00.045"
                    },
                    "metadata": {}
                },
                {
                    "output_type": "execute_result",
                    "metadata": {},
                    "execution_count": 5,
                    "data": {
                        "application/vnd.dataresource+json": {
                            "schema": {
                                "fields": [
                                    {
                                        "name": "id"
                                    },
                                    {
                                        "name": "persona"
                                    },
                                    {
                                        "name": "element"
                                    },
                                    {
                                        "name": "score"
                                    },
                                    {
                                        "name": "z_score"
                                    }
                                ]
                            },
                            "data": [
                                {
                                    "id": "1",
                                    "persona": "1202",
                                    "element": "29407",
                                    "score": "376",
                                    "z_score": "-0.10051012454878860544"
                                },
                                {
                                    "id": "2",
                                    "persona": "1168",
                                    "element": "29391",
                                    "score": "887",
                                    "z_score": "1.1311577685743946"
                                },
                                {
                                    "id": "3",
                                    "persona": "1189",
                                    "element": "29410",
                                    "score": "459",
                                    "z_score": "-0.39094904870582227618"
                                },
                                {
                                    "id": "4",
                                    "persona": "1193",
                                    "element": "29429",
                                    "score": "914",
                                    "z_score": "1.2251363902194172"
                                },
                                {
                                    "id": "5",
                                    "persona": "1192",
                                    "element": "29364",
                                    "score": "82",
                                    "z_score": "-1.2529156544165868"
                                },
                                {
                                    "id": "6",
                                    "persona": "1210",
                                    "element": "29357",
                                    "score": "191",
                                    "z_score": "-0.59610721955642245143"
                                },
                                {
                                    "id": "7",
                                    "persona": "1162",
                                    "element": "29420",
                                    "score": "849",
                                    "z_score": "1.0509473158193312"
                                },
                                {
                                    "id": "8",
                                    "persona": "1212",
                                    "element": "29371",
                                    "score": "836",
                                    "z_score": "0.90702700089873844082"
                                },
                                {
                                    "id": "9",
                                    "persona": "1187",
                                    "element": "29379",
                                    "score": "123",
                                    "z_score": "-1.3363792742171923"
                                },
                                {
                                    "id": "10",
                                    "persona": "1180",
                                    "element": "29415",
                                    "score": "411",
                                    "z_score": "-0.37087076320596595753"
                                }
                            ]
                        },
                        "text/html": [
                            "<table>",
                            "<tr><th>id</th><th>persona</th><th>element</th><th>score</th><th>z_score</th></tr>",
                            "<tr><td>1</td><td>1202</td><td>29407</td><td>376</td><td>-0.10051012454878860544</td></tr>",
                            "<tr><td>2</td><td>1168</td><td>29391</td><td>887</td><td>1.1311577685743946</td></tr>",
                            "<tr><td>3</td><td>1189</td><td>29410</td><td>459</td><td>-0.39094904870582227618</td></tr>",
                            "<tr><td>4</td><td>1193</td><td>29429</td><td>914</td><td>1.2251363902194172</td></tr>",
                            "<tr><td>5</td><td>1192</td><td>29364</td><td>82</td><td>-1.2529156544165868</td></tr>",
                            "<tr><td>6</td><td>1210</td><td>29357</td><td>191</td><td>-0.59610721955642245143</td></tr>",
                            "<tr><td>7</td><td>1162</td><td>29420</td><td>849</td><td>1.0509473158193312</td></tr>",
                            "<tr><td>8</td><td>1212</td><td>29371</td><td>836</td><td>0.90702700089873844082</td></tr>",
                            "<tr><td>9</td><td>1187</td><td>29379</td><td>123</td><td>-1.3363792742171923</td></tr>",
                            "<tr><td>10</td><td>1180</td><td>29415</td><td>411</td><td>-0.37087076320596595753</td></tr>",
                            "</table>"
                        ]
                    }
                }
            ],
            "execution_count": 5
        },
        {
            "cell_type": "markdown",
            "source": [
                "Exercise 4.5"
            ],
            "metadata": {
                "azdata_cell_guid": "f0e43a18-c052-4a64-b48d-ed454557aac3"
            },
            "attachments": {}
        },
        {
            "cell_type": "code",
            "source": [
                "-- Part 1: Score difference from element average\n",
                "SELECT persona, element, score,\n",
                "      score - AVG(score) OVER (PARTITION BY element) as diff_from_avg\n",
                "FROM events\n",
                "LIMIT 10;\n",
                "\n",
                "-- Part 2: Rank student scores\n",
                "SELECT persona, element, score,\n",
                "      RANK() OVER (PARTITION BY element ORDER BY score DESC) as RANK\n",
                "FROM events\n",
                "LIMIT 10;"
            ],
            "metadata": {
                "azdata_cell_guid": "8f5cc2cd-bd70-4198-92c7-c29810ccc2a4",
                "language": "sql"
            },
            "outputs": [
                {
                    "output_type": "display_data",
                    "data": {
                        "text/html": "(10 row(s) affected)"
                    },
                    "metadata": {}
                },
                {
                    "output_type": "display_data",
                    "data": {
                        "text/html": "(10 row(s) affected)"
                    },
                    "metadata": {}
                },
                {
                    "output_type": "display_data",
                    "data": {
                        "text/html": "Total execution time: 00:00:00.076"
                    },
                    "metadata": {}
                },
                {
                    "output_type": "execute_result",
                    "metadata": {},
                    "execution_count": 10,
                    "data": {
                        "application/vnd.dataresource+json": {
                            "schema": {
                                "fields": [
                                    {
                                        "name": "persona"
                                    },
                                    {
                                        "name": "element"
                                    },
                                    {
                                        "name": "score"
                                    },
                                    {
                                        "name": "diff_from_avg"
                                    }
                                ]
                            },
                            "data": [
                                {
                                    "persona": "1183",
                                    "element": "29349",
                                    "score": "58",
                                    "diff_from_avg": "-273.3750000000000000"
                                },
                                {
                                    "persona": "1225",
                                    "element": "29349",
                                    "score": "718",
                                    "diff_from_avg": "386.6250000000000000"
                                },
                                {
                                    "persona": "1156",
                                    "element": "29349",
                                    "score": "193",
                                    "diff_from_avg": "-138.3750000000000000"
                                },
                                {
                                    "persona": "1193",
                                    "element": "29349",
                                    "score": "24",
                                    "diff_from_avg": "-307.3750000000000000"
                                },
                                {
                                    "persona": "1208",
                                    "element": "29349",
                                    "score": "312",
                                    "diff_from_avg": "-19.3750000000000000"
                                },
                                {
                                    "persona": "1186",
                                    "element": "29349",
                                    "score": "475",
                                    "diff_from_avg": "143.6250000000000000"
                                },
                                {
                                    "persona": "1232",
                                    "element": "29349",
                                    "score": "382",
                                    "diff_from_avg": "50.6250000000000000"
                                },
                                {
                                    "persona": "1220",
                                    "element": "29349",
                                    "score": "489",
                                    "diff_from_avg": "157.6250000000000000"
                                },
                                {
                                    "persona": "1242",
                                    "element": "29350",
                                    "score": "81",
                                    "diff_from_avg": "-450.3636363636363636"
                                },
                                {
                                    "persona": "1199",
                                    "element": "29350",
                                    "score": "925",
                                    "diff_from_avg": "393.6363636363636364"
                                }
                            ]
                        },
                        "text/html": [
                            "<table>",
                            "<tr><th>persona</th><th>element</th><th>score</th><th>diff_from_avg</th></tr>",
                            "<tr><td>1183</td><td>29349</td><td>58</td><td>-273.3750000000000000</td></tr>",
                            "<tr><td>1225</td><td>29349</td><td>718</td><td>386.6250000000000000</td></tr>",
                            "<tr><td>1156</td><td>29349</td><td>193</td><td>-138.3750000000000000</td></tr>",
                            "<tr><td>1193</td><td>29349</td><td>24</td><td>-307.3750000000000000</td></tr>",
                            "<tr><td>1208</td><td>29349</td><td>312</td><td>-19.3750000000000000</td></tr>",
                            "<tr><td>1186</td><td>29349</td><td>475</td><td>143.6250000000000000</td></tr>",
                            "<tr><td>1232</td><td>29349</td><td>382</td><td>50.6250000000000000</td></tr>",
                            "<tr><td>1220</td><td>29349</td><td>489</td><td>157.6250000000000000</td></tr>",
                            "<tr><td>1242</td><td>29350</td><td>81</td><td>-450.3636363636363636</td></tr>",
                            "<tr><td>1199</td><td>29350</td><td>925</td><td>393.6363636363636364</td></tr>",
                            "</table>"
                        ]
                    }
                },
                {
                    "output_type": "execute_result",
                    "metadata": {},
                    "execution_count": 10,
                    "data": {
                        "application/vnd.dataresource+json": {
                            "schema": {
                                "fields": [
                                    {
                                        "name": "persona"
                                    },
                                    {
                                        "name": "element"
                                    },
                                    {
                                        "name": "score"
                                    },
                                    {
                                        "name": "rank"
                                    }
                                ]
                            },
                            "data": [
                                {
                                    "persona": "1225",
                                    "element": "29349",
                                    "score": "718",
                                    "rank": "1"
                                },
                                {
                                    "persona": "1220",
                                    "element": "29349",
                                    "score": "489",
                                    "rank": "2"
                                },
                                {
                                    "persona": "1186",
                                    "element": "29349",
                                    "score": "475",
                                    "rank": "3"
                                },
                                {
                                    "persona": "1232",
                                    "element": "29349",
                                    "score": "382",
                                    "rank": "4"
                                },
                                {
                                    "persona": "1208",
                                    "element": "29349",
                                    "score": "312",
                                    "rank": "5"
                                },
                                {
                                    "persona": "1156",
                                    "element": "29349",
                                    "score": "193",
                                    "rank": "6"
                                },
                                {
                                    "persona": "1183",
                                    "element": "29349",
                                    "score": "58",
                                    "rank": "7"
                                },
                                {
                                    "persona": "1193",
                                    "element": "29349",
                                    "score": "24",
                                    "rank": "8"
                                },
                                {
                                    "persona": "1199",
                                    "element": "29350",
                                    "score": "925",
                                    "rank": "1"
                                },
                                {
                                    "persona": "1247",
                                    "element": "29350",
                                    "score": "895",
                                    "rank": "2"
                                }
                            ]
                        },
                        "text/html": [
                            "<table>",
                            "<tr><th>persona</th><th>element</th><th>score</th><th>rank</th></tr>",
                            "<tr><td>1225</td><td>29349</td><td>718</td><td>1</td></tr>",
                            "<tr><td>1220</td><td>29349</td><td>489</td><td>2</td></tr>",
                            "<tr><td>1186</td><td>29349</td><td>475</td><td>3</td></tr>",
                            "<tr><td>1232</td><td>29349</td><td>382</td><td>4</td></tr>",
                            "<tr><td>1208</td><td>29349</td><td>312</td><td>5</td></tr>",
                            "<tr><td>1156</td><td>29349</td><td>193</td><td>6</td></tr>",
                            "<tr><td>1183</td><td>29349</td><td>58</td><td>7</td></tr>",
                            "<tr><td>1193</td><td>29349</td><td>24</td><td>8</td></tr>",
                            "<tr><td>1199</td><td>29350</td><td>925</td><td>1</td></tr>",
                            "<tr><td>1247</td><td>29350</td><td>895</td><td>2</td></tr>",
                            "</table>"
                        ]
                    }
                }
            ],
            "execution_count": 10
        },
        {
            "cell_type": "markdown",
            "source": [
                "Exercise 5.2"
            ],
            "metadata": {
                "azdata_cell_guid": "13389450-660b-4626-8073-228a31898ddc"
            },
            "attachments": {}
        },
        {
            "cell_type": "code",
            "source": [
                "import psycopg\n",
                "\n",
                "conn = psycopg.connect(\n",
                "    dbname=\"njacimov\",\n",
                "    user=\"njacimov\",\n",
                "    password=\"Vj2A0rxBtk\",\n",
                "    host=\"pinniped.postgres.database.azure.com\"\n",
                ")\n",
                "\n",
                "cur = conn.cursor()\n",
                "    \n",
                "''' Because using with, do not need to conn.commit and conn.close '''\n",
                "\n",
                "with conn_transaction():\n",
                "    try:\n",
                "        cur.execute(\"INSERT INTO events (id, persona, element, score)\"\n",
                "                    \"VALUES('phone#', '415','420','2140')\")\n",
                "    except Exception as e:\n",
                "        print(f\"Error: {str(e)}\")"
            ],
            "metadata": {
                "azdata_cell_guid": "b01da1dd-19c5-4faa-8f26-05f0fd7b40e8",
                "language": "sql"
            },
            "outputs": [
                {
                    "output_type": "error",
                    "ename": "",
                    "evalue": "syntax error at or near \"psycopg\"",
                    "traceback": []
                },
                {
                    "output_type": "display_data",
                    "data": {
                        "text/html": "Total execution time: 00:00:00.022"
                    },
                    "metadata": {}
                }
            ],
            "execution_count": 1
        }
    ]
}